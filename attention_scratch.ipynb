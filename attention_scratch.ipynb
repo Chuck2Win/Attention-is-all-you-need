{
  "nbformat": 4,
  "nbformat_minor": 0,
  "metadata": {
    "colab": {
      "name": "attention_scratch.ipynb",
      "provenance": [],
      "collapsed_sections": [],
      "authorship_tag": "ABX9TyNlcxGr44qOkgRHbzCzppIs",
      "include_colab_link": true
    },
    "kernelspec": {
      "name": "python3",
      "display_name": "Python 3"
    }
  },
  "cells": [
    {
      "cell_type": "markdown",
      "metadata": {
        "id": "view-in-github",
        "colab_type": "text"
      },
      "source": [
        "<a href=\"https://colab.research.google.com/github/Chuck2Win/attention/blob/Attention3_4_10/attention_scratch.ipynb\" target=\"_parent\"><img src=\"https://colab.research.google.com/assets/colab-badge.svg\" alt=\"Open In Colab\"/></a>"
      ]
    },
    {
      "cell_type": "code",
      "metadata": {
        "id": "7V_elFalpMx5",
        "colab_type": "code",
        "colab": {}
      },
      "source": [
        "import numpy as np\n",
        "import torch \n",
        "import torch.nn as nn\n",
        "import torch.nn.functional as F\n",
        "import torchtext\n",
        "from gensim.models import Word2Vec\n",
        "import nltk\n",
        "import os\n",
        "from google.colab import files\n",
        "from google.colab import drive\n",
        "from matplotlib import pyplot as plt"
      ],
      "execution_count": 0,
      "outputs": []
    },
    {
      "cell_type": "code",
      "metadata": {
        "id": "77VplpEWq0b0",
        "colab_type": "code",
        "outputId": "dd9e9547-ffce-44be-c894-83fd2703cfc0",
        "colab": {
          "base_uri": "https://localhost:8080/",
          "height": 130
        }
      },
      "source": [
        "# google drive와 연동\n",
        "drive.mount('/content/gdrive')"
      ],
      "execution_count": 4,
      "outputs": [
        {
          "output_type": "stream",
          "text": [
            "Go to this URL in a browser: https://accounts.google.com/o/oauth2/auth?client_id=947318989803-6bn6qk8qdgf4n4g3pfee6491hc0brc4i.apps.googleusercontent.com&redirect_uri=urn%3aietf%3awg%3aoauth%3a2.0%3aoob&response_type=code&scope=email%20https%3a%2f%2fwww.googleapis.com%2fauth%2fdocs.test%20https%3a%2f%2fwww.googleapis.com%2fauth%2fdrive%20https%3a%2f%2fwww.googleapis.com%2fauth%2fdrive.photos.readonly%20https%3a%2f%2fwww.googleapis.com%2fauth%2fpeopleapi.readonly\n",
            "\n",
            "Enter your authorization code:\n",
            "··········\n",
            "Mounted at /content/gdrive\n"
          ],
          "name": "stdout"
        }
      ]
    },
    {
      "cell_type": "code",
      "metadata": {
        "id": "KI7yyA7PrTKl",
        "colab_type": "code",
        "outputId": "353b1985-5320-4837-99e1-cb692f729e4e",
        "colab": {
          "base_uri": "https://localhost:8080/",
          "height": 91
        }
      },
      "source": [
        "print(os.getcwd())\n",
        "print(os.listdir('./')) # 현재 directory에 있는 모든 녀석들,..\n",
        "# 기존 경로 + 새로운 폴더 이름으로 새로운 경로 만들기\n",
        "current=os.getcwd()\n",
        "path=os.path.join(current,'gdrive/My Drive/attention')\n",
        "os.chdir(path)\n",
        "print(os.getcwd())\n",
        "# 새로운 directory 만들기\n",
        "#os.mkdir(path)\n",
        "# 새로운 경로로 바꾸기\n",
        "#os.chdir(path)\n",
        "print(os.listdir('./'))"
      ],
      "execution_count": 5,
      "outputs": [
        {
          "output_type": "stream",
          "text": [
            "/content\n",
            "['.config', 'gdrive', 'sample_data']\n",
            "/content/gdrive/My Drive/attention\n",
            "['eng-fra.txt']\n"
          ],
          "name": "stdout"
        }
      ]
    },
    {
      "cell_type": "code",
      "metadata": {
        "id": "ddTxWUn1uHUC",
        "colab_type": "code",
        "colab": {}
      },
      "source": [
        "# drive에 파일 올리기\n",
        "#files.upload()"
      ],
      "execution_count": 0,
      "outputs": []
    },
    {
      "cell_type": "code",
      "metadata": {
        "id": "PGNRp91juj8C",
        "colab_type": "code",
        "colab": {}
      },
      "source": [
        "import pandas as pd\n",
        "from pandas import DataFrame as df\n",
        "data=pd.read_csv('./eng-fra.txt',sep='\\t',names=['english','french'],header=None) # column명이 없는 경우 column 명을 지정하고, 불러온다."
      ],
      "execution_count": 0,
      "outputs": []
    },
    {
      "cell_type": "code",
      "metadata": {
        "id": "pbbQ_X66vWI2",
        "colab_type": "code",
        "outputId": "6a019007-10ac-4b47-d69a-7eeb59771cde",
        "colab": {
          "base_uri": "https://localhost:8080/",
          "height": 198
        }
      },
      "source": [
        "data.head()"
      ],
      "execution_count": 8,
      "outputs": [
        {
          "output_type": "execute_result",
          "data": {
            "text/html": [
              "<div>\n",
              "<style scoped>\n",
              "    .dataframe tbody tr th:only-of-type {\n",
              "        vertical-align: middle;\n",
              "    }\n",
              "\n",
              "    .dataframe tbody tr th {\n",
              "        vertical-align: top;\n",
              "    }\n",
              "\n",
              "    .dataframe thead th {\n",
              "        text-align: right;\n",
              "    }\n",
              "</style>\n",
              "<table border=\"1\" class=\"dataframe\">\n",
              "  <thead>\n",
              "    <tr style=\"text-align: right;\">\n",
              "      <th></th>\n",
              "      <th>english</th>\n",
              "      <th>french</th>\n",
              "    </tr>\n",
              "  </thead>\n",
              "  <tbody>\n",
              "    <tr>\n",
              "      <th>0</th>\n",
              "      <td>Go.</td>\n",
              "      <td>Va !</td>\n",
              "    </tr>\n",
              "    <tr>\n",
              "      <th>1</th>\n",
              "      <td>Run!</td>\n",
              "      <td>Cours !</td>\n",
              "    </tr>\n",
              "    <tr>\n",
              "      <th>2</th>\n",
              "      <td>Run!</td>\n",
              "      <td>Courez !</td>\n",
              "    </tr>\n",
              "    <tr>\n",
              "      <th>3</th>\n",
              "      <td>Wow!</td>\n",
              "      <td>Ça alors !</td>\n",
              "    </tr>\n",
              "    <tr>\n",
              "      <th>4</th>\n",
              "      <td>Fire!</td>\n",
              "      <td>Au feu !</td>\n",
              "    </tr>\n",
              "  </tbody>\n",
              "</table>\n",
              "</div>"
            ],
            "text/plain": [
              "  english      french\n",
              "0     Go.        Va !\n",
              "1    Run!     Cours !\n",
              "2    Run!    Courez !\n",
              "3    Wow!  Ça alors !\n",
              "4   Fire!    Au feu !"
            ]
          },
          "metadata": {
            "tags": []
          },
          "execution_count": 8
        }
      ]
    },
    {
      "cell_type": "code",
      "metadata": {
        "id": "uNh_wQQJwH6p",
        "colab_type": "code",
        "colab": {}
      },
      "source": [
        "# nltk의 word tokenize를 활용해보고\n",
        "# 일단 lower를 진행.."
      ],
      "execution_count": 0,
      "outputs": []
    },
    {
      "cell_type": "code",
      "metadata": {
        "id": "P6WCn5UWxTgV",
        "colab_type": "code",
        "outputId": "f0aa44e6-5bd5-49c6-b214-aaf515ab60c4",
        "colab": {
          "base_uri": "https://localhost:8080/",
          "height": 54
        }
      },
      "source": [
        "# tokenize하기\n",
        "nltk.download('punkt')\n",
        "from nltk.tokenize import word_tokenize\n",
        "# word_tokenize(sentene) <- dataframe이 들어가면 안된다...\n",
        "data['tokenized_eng']=data['english'].str.lower().apply(lambda i : word_tokenize(i,language='english'))\n",
        "data['tokenized_french']=data['french'].str.lower().apply(lambda i : word_tokenize(i,language='french'))"
      ],
      "execution_count": 10,
      "outputs": [
        {
          "output_type": "stream",
          "text": [
            "[nltk_data] Downloading package punkt to /root/nltk_data...\n",
            "[nltk_data]   Unzipping tokenizers/punkt.zip.\n"
          ],
          "name": "stdout"
        }
      ]
    },
    {
      "cell_type": "code",
      "metadata": {
        "id": "uot2JUQDyR8J",
        "colab_type": "code",
        "outputId": "407242ec-83d0-4188-d6b1-82d5cbf027d5",
        "colab": {
          "base_uri": "https://localhost:8080/",
          "height": 54
        }
      },
      "source": [
        "# torch text를 활용않고, vocabulary 만들어서 진행하자....\n",
        "print(max(data['tokenized_eng'].apply(lambda i : len(i)))) # 51 \n",
        "print(max(data['tokenized_french'].apply(lambda i : len(i)))) # 58"
      ],
      "execution_count": 11,
      "outputs": [
        {
          "output_type": "stream",
          "text": [
            "51\n",
            "58\n"
          ],
          "name": "stdout"
        }
      ]
    },
    {
      "cell_type": "code",
      "metadata": {
        "id": "QO_p_6c_5p9-",
        "colab_type": "code",
        "colab": {}
      },
      "source": [
        "# 만약 다 손수 한다면...\n",
        "def make_vocab(sentences,min_count=3):\n",
        "    # sentences는 pandas 형태일 것이다.\n",
        "    result={}\n",
        "    \n",
        "    for sentence in sentences:\n",
        "        for vocab in sentence:\n",
        "            if vocab not in result.keys():\n",
        "                result[vocab]=1\n",
        "            else:\n",
        "                result[vocab]+=1\n",
        "    #<- Counter 역할을 한 것이고.\n",
        "    Result={key:_+4 for _,key in enumerate(result.keys()) if result[key]>=min_count}\n",
        "    Result['<unk>']=0\n",
        "    Result['<pad>']=1\n",
        "    Result['<sos>']=2\n",
        "    Result['<eos>']=3\n",
        "    return Result\n",
        "english_index=make_vocab(data.tokenized_eng)\n",
        "french_index=make_vocab(data.tokenized_french)"
      ],
      "execution_count": 0,
      "outputs": []
    },
    {
      "cell_type": "code",
      "metadata": {
        "id": "vYm_EtA4JNOO",
        "colab_type": "code",
        "colab": {}
      },
      "source": [
        "# tokenized->vectorization # ㅋㅋㅋ 결국 padding 진행\n",
        "def vectorizing(sentence,word2index,max_len=64):\n",
        "    result=[2]\n",
        "    for i in sentence:\n",
        "        if i in word2index.keys():\n",
        "            result.append(word2index[i])\n",
        "        else:\n",
        "            result.append(word2index['<unk>'])\n",
        "    result.append(3)\n",
        "    l=max_len-len(sentence)\n",
        "    result.extend([1]*l)\n",
        "    return result\n",
        "data['vectorized_eng']=data['tokenized_eng'].apply(lambda i : vectorizing(i,english_index))\n",
        "data['vectorized_fr']=data['tokenized_french'].apply(lambda i : vectorizing(i,french_index))"
      ],
      "execution_count": 0,
      "outputs": []
    },
    {
      "cell_type": "code",
      "metadata": {
        "id": "5tYpdQYTMFMY",
        "colab_type": "code",
        "outputId": "2fc96584-344f-4b10-db85-783feb2df1e1",
        "colab": {
          "base_uri": "https://localhost:8080/",
          "height": 73
        }
      },
      "source": [
        "print(english_index['<sos>']) # 2\n",
        "print(english_index['<eos>']) # 3\n",
        "print(len(english_index.keys()))"
      ],
      "execution_count": 14,
      "outputs": [
        {
          "output_type": "stream",
          "text": [
            "2\n",
            "3\n",
            "7170\n"
          ],
          "name": "stdout"
        }
      ]
    },
    {
      "cell_type": "code",
      "metadata": {
        "id": "xX3g5myTL5m3",
        "colab_type": "code",
        "outputId": "b707990f-3dce-4f93-d774-b0b9b7c857d8",
        "colab": {
          "base_uri": "https://localhost:8080/",
          "height": 240
        }
      },
      "source": [
        "# vectorized_eng -> vectorized_fr\n",
        "print(data.vectorized_eng.head())\n",
        "print(data.vectorized_fr.head())"
      ],
      "execution_count": 15,
      "outputs": [
        {
          "output_type": "stream",
          "text": [
            "0    [2, 4, 5, 3, 1, 1, 1, 1, 1, 1, 1, 1, 1, 1, 1, ...\n",
            "1    [2, 6, 7, 3, 1, 1, 1, 1, 1, 1, 1, 1, 1, 1, 1, ...\n",
            "2    [2, 6, 7, 3, 1, 1, 1, 1, 1, 1, 1, 1, 1, 1, 1, ...\n",
            "3    [2, 8, 7, 3, 1, 1, 1, 1, 1, 1, 1, 1, 1, 1, 1, ...\n",
            "4    [2, 9, 7, 3, 1, 1, 1, 1, 1, 1, 1, 1, 1, 1, 1, ...\n",
            "Name: vectorized_eng, dtype: object\n",
            "0    [2, 4, 5, 3, 1, 1, 1, 1, 1, 1, 1, 1, 1, 1, 1, ...\n",
            "1    [2, 6, 5, 3, 1, 1, 1, 1, 1, 1, 1, 1, 1, 1, 1, ...\n",
            "2    [2, 7, 5, 3, 1, 1, 1, 1, 1, 1, 1, 1, 1, 1, 1, ...\n",
            "3    [2, 8, 9, 5, 3, 1, 1, 1, 1, 1, 1, 1, 1, 1, 1, ...\n",
            "4    [2, 10, 11, 5, 3, 1, 1, 1, 1, 1, 1, 1, 1, 1, 1...\n",
            "Name: vectorized_fr, dtype: object\n"
          ],
          "name": "stdout"
        }
      ]
    },
    {
      "cell_type": "code",
      "metadata": {
        "id": "dZdBpy8GBRnI",
        "colab_type": "code",
        "colab": {}
      },
      "source": [
        "### 여기까진 데이터 전처리 ###"
      ],
      "execution_count": 0,
      "outputs": []
    },
    {
      "cell_type": "code",
      "metadata": {
        "id": "mHEwbKSPBcmh",
        "colab_type": "code",
        "colab": {}
      },
      "source": [
        "## torch.utils.data.DataLoader을 활용할 것인데\n",
        "x=torch.tensor(data['vectorized_eng'].to_list())\n",
        "y=torch.tensor(data['vectorized_fr'].to_list())\n",
        "X=torch.utils.data.TensorDataset(x,y)\n",
        "train_loader=torch.utils.data.DataLoader(X,batch_size=64,drop_last=True)"
      ],
      "execution_count": 0,
      "outputs": []
    },
    {
      "cell_type": "code",
      "metadata": {
        "id": "YNMFQFaVEd92",
        "colab_type": "code",
        "colab": {}
      },
      "source": [
        "batch=next(iter(train_loader))"
      ],
      "execution_count": 0,
      "outputs": []
    },
    {
      "cell_type": "code",
      "metadata": {
        "id": "mB9KyL0JCskA",
        "colab_type": "code",
        "outputId": "b866409e-ab66-41d6-cb0f-b6af623222c0",
        "colab": {
          "base_uri": "https://localhost:8080/",
          "height": 314
        }
      },
      "source": [
        "print(batch[0].shape) # 4,66\n",
        "print(batch[0]) # english\n",
        "print(batch[1].shape) # 64,66\n",
        "print(batch[1]) # french"
      ],
      "execution_count": 19,
      "outputs": [
        {
          "output_type": "stream",
          "text": [
            "torch.Size([64, 66])\n",
            "tensor([[ 2,  4,  5,  ...,  1,  1,  1],\n",
            "        [ 2,  6,  7,  ...,  1,  1,  1],\n",
            "        [ 2,  6,  7,  ...,  1,  1,  1],\n",
            "        ...,\n",
            "        [ 2, 46, 47,  ...,  1,  1,  1],\n",
            "        [ 2, 46, 47,  ...,  1,  1,  1],\n",
            "        [ 2, 46, 48,  ...,  1,  1,  1]])\n",
            "torch.Size([64, 66])\n",
            "tensor([[ 2,  4,  5,  ...,  1,  1,  1],\n",
            "        [ 2,  6,  5,  ...,  1,  1,  1],\n",
            "        [ 2,  7,  5,  ...,  1,  1,  1],\n",
            "        ...,\n",
            "        [ 2, 92, 91,  ...,  1,  1,  1],\n",
            "        [ 2, 92, 93,  ...,  1,  1,  1],\n",
            "        [ 2, 90, 94,  ...,  1,  1,  1]])\n"
          ],
          "name": "stdout"
        }
      ]
    },
    {
      "cell_type": "code",
      "metadata": {
        "id": "4en9bUz43uN9",
        "colab_type": "code",
        "colab": {}
      },
      "source": [
        "# positional encoding을 해줘야한다.(실제 모델에서는 pretrained 모델을 활용한다고 했다)\n",
        "def positional_encoding(input):\n",
        "    # input shape : [n,seq_len,embedding_dim]\n",
        "    def for_insert(input):\n",
        "        # input shape : n, seq_len, embedding_dim\n",
        "        for i in range(input.shape[1]):\n",
        "            for j in range(input.shape[2]):\n",
        "                input[:,i,j]=torch.tensor(i/(10000)**(j/input.shape[2]))\n",
        "        return input\n",
        "    pe=for_insert(input)\n",
        "    pe[:,:,0::2]=torch.sin(pe[:,:,0::2])\n",
        "    pe[:,:,1::2]=torch.cos(pe[:,:,0::2])\n",
        "    return pe"
      ],
      "execution_count": 0,
      "outputs": []
    },
    {
      "cell_type": "code",
      "metadata": {
        "id": "2wv8zImVfpFU",
        "colab_type": "code",
        "colab": {}
      },
      "source": [
        "def self_attention(input,Mask=False):\n",
        "\n",
        "    # scaled dot product attention\n",
        "    # input shape : [n,seq_len,embedding_dim]\n",
        "    Result=[]\n",
        "    mask=torch.ones((input.shape[1],input.shape[1])).triu(diagonal=1).bool() # seq_len,seq_len\n",
        "    for ba in range(input.shape[0]):\n",
        "        Q=input[ba]\n",
        "        K=Q\n",
        "        V=Q\n",
        "        T=Q.matmul(K.T)/torch.sqrt(torch.tensor(Q.shape[-1]).float())\n",
        "        if Mask:\n",
        "            T.masked_fill_(mask,1e-7)\n",
        "        weight=F.softmax(T,dim=-1)\n",
        "        # weight : seq_len, seq_len\n",
        "        attention_score=weight.matmul(V)\n",
        "        # attention score : seq_len,embedding_dim\n",
        "        Result.append(attention_score)\n",
        "    return torch.stack(Result,0)# Result : n, seq_len, embedding_dim"
      ],
      "execution_count": 0,
      "outputs": []
    },
    {
      "cell_type": "code",
      "metadata": {
        "id": "QZBosnhvxhBL",
        "colab_type": "code",
        "colab": {}
      },
      "source": [
        "def attention(encoder_input,decoder_input):\n",
        "    # scaled dot product attention\n",
        "    # encoder_input shape : [n,encoder_seq_len,encoder_embedding_dim]\n",
        "    # decoder_input shape : [n,decoder_seq_len,decoder_embedding_dim]\n",
        "    Result=[]\n",
        "    for ba in range(encoder_input.shape[0]):\n",
        "        Q=decoder_input[ba]\n",
        "        K=encoder_input[ba]\n",
        "        V=encoder_input[ba]\n",
        "        T=Q.matmul(K.T)/torch.sqrt(torch.tensor(Q.shape[-1]).float())\n",
        "        weight=F.softmax(T,dim=-1)\n",
        "        # weight : seq_len, seq_len\n",
        "        attention_score=weight.matmul(V)\n",
        "        # attention score : seq_len,embedding_dim\n",
        "        Result.append(attention_score)\n",
        "    return torch.stack(Result,0)# Result : n, seq_len, embedding_dim"
      ],
      "execution_count": 0,
      "outputs": []
    },
    {
      "cell_type": "code",
      "metadata": {
        "id": "NAMjSaXi4zb9",
        "colab_type": "code",
        "colab": {}
      },
      "source": [
        "class attention_encoder(nn.Module): # 완료\n",
        "    def __init__(self,n_vocab,seq_len,embedding_dim):\n",
        "        super().__init__()\n",
        "        self.embedding=nn.Embedding(n_vocab,embedding_dim)\n",
        "        self.embedding.weight.required_grad=False\n",
        "        self.embedding.weight\n",
        "        self.fc=nn.Sequential(nn.Linear(embedding_dim,embedding_dim*4),nn.ReLU(),nn.Linear(embedding_dim*4,embedding_dim))\n",
        "        self.batch1=nn.BatchNorm1d(seq_len)\n",
        "        self.batch2=nn.BatchNorm1d(seq_len)\n",
        "    def forward(self,input):\n",
        "        # input shape : [n,seq_len] # n batch size\n",
        "        x=self.embedding(input) # x : [n,seq_len,embedding_dim]\n",
        "        self.pe=positional_encoding(x)\n",
        "        x=self_attention(x)\n",
        "        x=self.batch1(x+self.pe)\n",
        "        # x=layer_normalization(x+x_) # residual block\n",
        "        x=self.batch2(self.fc(x)+x)\n",
        "        return x"
      ],
      "execution_count": 0,
      "outputs": []
    },
    {
      "cell_type": "code",
      "metadata": {
        "id": "0q19VvIbuXP0",
        "colab_type": "code",
        "colab": {}
      },
      "source": [
        "# attention encoder example\n",
        "model_encoder=attention_encoder(7170,66,300)\n",
        "encoder_output=model_encoder(batch[0])"
      ],
      "execution_count": 0,
      "outputs": []
    },
    {
      "cell_type": "code",
      "metadata": {
        "id": "mtQcYTLkPSD7",
        "colab_type": "code",
        "colab": {}
      },
      "source": [
        "class attention_decoder(nn.Module): # encoder와의 차이점 - masking을 해줘야 함. \n",
        "    def __init__(self,n_vocab,seq_len,embedding_dim):\n",
        "        super().__init__()\n",
        "        self.embedding=nn.Embedding(n_vocab,embedding_dim)\n",
        "        self.batch1=nn.BatchNorm1d(seq_len) # 여기에 seq_len이 들어가야한다.\n",
        "        self.fc1=nn.Sequential(nn.Linear(embedding_dim,embedding_dim*4),nn.ReLU(),nn.Linear(embedding_dim*4,embedding_dim))\n",
        "        self.batch2=nn.BatchNorm1d(seq_len)\n",
        "        self.batch3=nn.BatchNorm1d(seq_len)\n",
        "        self.fc2=nn.Sequential(nn.Linear(embedding_dim,embedding_dim*4),nn.ReLU(),nn.Linear(embedding_dim*4,embedding_dim))\n",
        "        # self.final=nn.Sequential(nn.Linear(embedding_dim,))\n",
        "    def forward(self,input,encoder_output):\n",
        "        # input shape : [n,seq_len] # n batch size\n",
        "        # encoder_output : [n,encoder_seq_len,encoder_embedding_dim]\n",
        "        \n",
        "        #1. decoder_self_attention\n",
        "        x=self.embedding(input) # x : [n,decoder_seq_len,decoder_embedding_dim]\n",
        "        self.pe=positional_encoding(x)\n",
        "        x=self_attention(x,True)\n",
        "        x=self.batch1(x+self.pe)\n",
        "        # x=layer_normalization(x+x_) # residual block\n",
        "        x=self.batch2(self.fc1(x)+x)\n",
        "        # x shape : [n,decoder_seq_len,decoder_embedding_dim]\n",
        "        \n",
        "        #2. decoder_encoder_attention\n",
        "        output=attention(encoder_output,x)\n",
        "        x=self.batch3(output+x)\n",
        "\n",
        "        #3. fc2 layer\n",
        "        x=self.batch3(self.fc2(x)+x)\n",
        "\n",
        "        #4. final fc layer\n",
        "        #4. \n",
        "        return output\n"
      ],
      "execution_count": 0,
      "outputs": []
    },
    {
      "cell_type": "code",
      "metadata": {
        "id": "klcg6BYGzBSz",
        "colab_type": "code",
        "outputId": "d59d9a3a-a37c-4bef-ffd9-aeb7b83e8003",
        "colab": {
          "base_uri": "https://localhost:8080/",
          "height": 166
        }
      },
      "source": [
        "model_decoder=attention_decoder(12238,66,300)\n",
        "# model_encoder=attention_encoder(7170,66,300)\n",
        "decoder_output=model_decoder(batch[1],encoder_output)\n",
        "print(batch[1])\n",
        "print(decoder_output.shape)"
      ],
      "execution_count": 31,
      "outputs": [
        {
          "output_type": "stream",
          "text": [
            "tensor([[ 2,  4,  5,  ...,  1,  1,  1],\n",
            "        [ 2,  6,  5,  ...,  1,  1,  1],\n",
            "        [ 2,  7,  5,  ...,  1,  1,  1],\n",
            "        ...,\n",
            "        [ 2, 92, 91,  ...,  1,  1,  1],\n",
            "        [ 2, 92, 93,  ...,  1,  1,  1],\n",
            "        [ 2, 90, 94,  ...,  1,  1,  1]])\n",
            "torch.Size([64, 66, 300])\n"
          ],
          "name": "stdout"
        }
      ]
    },
    {
      "cell_type": "code",
      "metadata": {
        "id": "Zq83n6mRQMGW",
        "colab_type": "code",
        "colab": {}
      },
      "source": [
        "# pytorch를 위한 dataset 구성하기\n",
        "# x=torch.tensor(data['vectorized_eng'].to_numpy())\n",
        "# https://discuss.pytorch.org/t/dataloader-for-various-length-of-data/6418\n",
        "# dataset_eng=torch.utils.data.TensorDataset(x)\n",
        "# 에러.. 어차피 TensorDataset을 만드려면,, 격자 구조가 되야되네.."
      ],
      "execution_count": 0,
      "outputs": []
    },
    {
      "cell_type": "code",
      "metadata": {
        "id": "H37i7uOERRRG",
        "colab_type": "code",
        "colab": {}
      },
      "source": [
        "# x=data.vectorized_eng.to_numpy()\n",
        "# eng_dataloader=torch.utils.data.DataLoader(x,batch_size=1,drop_last=True)\n",
        "# batch=next(iter(eng_dataloader))\n",
        "# print(batch)\n",
        "# https://pytorch.org/tutorials/beginner/text_sentiment_ngrams_tutorial.html 참조\n",
        "# 사실상 padding을 해서 torch.utils.data.TensorDataset()으로 만들어서 DataLoader로 진행하는 것이 깔끔은 하다.\n",
        "# 하지만 그런식으로 하기 싫을 경우도 대비해서 한번 배워보자\n",
        "# # torch.utils.data.DataLoader()\n",
        "# def batch_maker(batch):\n",
        "#     batch=torch.tensor(batch)\n",
        "#     return batch\n",
        "# loader=torch.utils.data.DataLoader(x,2,collate_fn=batch_maker,shuffle=True) # collate function은 단순히 mini batch로 묶어주기 전에, 각각의 data에 대해서 어떻게 처리하냐에 대한 것을 알려주네..."
      ],
      "execution_count": 0,
      "outputs": []
    },
    {
      "cell_type": "code",
      "metadata": {
        "id": "Ejcn-qi3RHZI",
        "colab_type": "code",
        "outputId": "aa2061e4-5b44-4a18-8205-6472c165311f",
        "colab": {
          "base_uri": "https://localhost:8080/",
          "height": 611
        }
      },
      "source": [
        "# https://paul-hyun.github.io/transformer-01/ 참고\n",
        "input=torch.tensor([[3091, 3604,  206, 3958, 3760, 3590,    0,    0],\n",
        "        [ 212, 3605,   53, 3832, 3596, 3682, 3760, 3590]]\n",
        "        )\n",
        "input.eq(0) # input 중에서 0이랑 equal한 녀석을 말하는 것이구나,\n",
        "print(input.eq(0))\n",
        "attn_mask=input.eq(0).unsqueeze(1).expand(2,8,8)\n",
        "scores=torch.tensor([[31.3476, -0.1451, -1.4832, -2.8843, -1.2542,  0.8314, -5.7174, -5.7174],\n",
        "        [-0.1451, 27.8460,  4.9304,  0.8781,  1.5047,  1.6372,  0.5585,  0.5585],\n",
        "        [-1.4832,  4.9304, 26.8313,  3.9618,  2.1587,  3.5587,  3.0447,  3.0447],\n",
        "        [-2.8843,  0.8781,  3.9618, 27.9037,  1.6892,  4.0453,  4.7429,  4.7429],\n",
        "        [-1.2542,  1.5047,  2.1587,  1.6892, 32.0763,  4.0136, -1.1263, -1.1263],\n",
        "        [ 0.8314,  1.6372,  3.5587,  4.0453,  4.0136, 38.0982, -2.7216, -2.7216],\n",
        "        [-5.7174,  0.5585,  3.0447,  4.7429, -1.1263, -2.7216, 56.9788, 56.9788],\n",
        "\n",
        "\n",
        "        [-5.7174,  0.5585,  3.0447,  4.7429, -1.1263, -2.7216, 56.9788, 56.9788]])\n",
        "scores=scores.expand(2,8,8)\n",
        "scores.masked_fill_(attn_mask,0)\n",
        "seq=torch.randn((1,10))\n",
        "subsequent_mask = torch.ones_like(seq).unsqueeze(-1).expand(seq.size(0), seq.size(1), seq.size(1))\n",
        "print(subsequent_mask)\n",
        "subsequent_mask = subsequent_mask.triu(diagonal=1) # upper triangular part of a matrix(2-D), diagonal=1은 diagonal에서 위로 1칸 부터 1을 채운다는 것\n",
        "print(subsequent_mask)\n",
        "subsequent_mask = subsequent_mask.triu(diagonal=2) # diagonal=2은 diagonal에서  위로 2칸까지 1을 채운다는 것\n",
        "print(subsequent_mask)"
      ],
      "execution_count": 29,
      "outputs": [
        {
          "output_type": "stream",
          "text": [
            "tensor([[False, False, False, False, False, False,  True,  True],\n",
            "        [False, False, False, False, False, False, False, False]])\n",
            "tensor([[[1., 1., 1., 1., 1., 1., 1., 1., 1., 1.],\n",
            "         [1., 1., 1., 1., 1., 1., 1., 1., 1., 1.],\n",
            "         [1., 1., 1., 1., 1., 1., 1., 1., 1., 1.],\n",
            "         [1., 1., 1., 1., 1., 1., 1., 1., 1., 1.],\n",
            "         [1., 1., 1., 1., 1., 1., 1., 1., 1., 1.],\n",
            "         [1., 1., 1., 1., 1., 1., 1., 1., 1., 1.],\n",
            "         [1., 1., 1., 1., 1., 1., 1., 1., 1., 1.],\n",
            "         [1., 1., 1., 1., 1., 1., 1., 1., 1., 1.],\n",
            "         [1., 1., 1., 1., 1., 1., 1., 1., 1., 1.],\n",
            "         [1., 1., 1., 1., 1., 1., 1., 1., 1., 1.]]])\n",
            "tensor([[[0., 1., 1., 1., 1., 1., 1., 1., 1., 1.],\n",
            "         [0., 0., 1., 1., 1., 1., 1., 1., 1., 1.],\n",
            "         [0., 0., 0., 1., 1., 1., 1., 1., 1., 1.],\n",
            "         [0., 0., 0., 0., 1., 1., 1., 1., 1., 1.],\n",
            "         [0., 0., 0., 0., 0., 1., 1., 1., 1., 1.],\n",
            "         [0., 0., 0., 0., 0., 0., 1., 1., 1., 1.],\n",
            "         [0., 0., 0., 0., 0., 0., 0., 1., 1., 1.],\n",
            "         [0., 0., 0., 0., 0., 0., 0., 0., 1., 1.],\n",
            "         [0., 0., 0., 0., 0., 0., 0., 0., 0., 1.],\n",
            "         [0., 0., 0., 0., 0., 0., 0., 0., 0., 0.]]])\n",
            "tensor([[[0., 0., 1., 1., 1., 1., 1., 1., 1., 1.],\n",
            "         [0., 0., 0., 1., 1., 1., 1., 1., 1., 1.],\n",
            "         [0., 0., 0., 0., 1., 1., 1., 1., 1., 1.],\n",
            "         [0., 0., 0., 0., 0., 1., 1., 1., 1., 1.],\n",
            "         [0., 0., 0., 0., 0., 0., 1., 1., 1., 1.],\n",
            "         [0., 0., 0., 0., 0., 0., 0., 1., 1., 1.],\n",
            "         [0., 0., 0., 0., 0., 0., 0., 0., 1., 1.],\n",
            "         [0., 0., 0., 0., 0., 0., 0., 0., 0., 1.],\n",
            "         [0., 0., 0., 0., 0., 0., 0., 0., 0., 0.],\n",
            "         [0., 0., 0., 0., 0., 0., 0., 0., 0., 0.]]])\n"
          ],
          "name": "stdout"
        }
      ]
    },
    {
      "cell_type": "code",
      "metadata": {
        "id": "RphBnyymps7S",
        "colab_type": "code",
        "outputId": "7ecd4d2c-b4de-4e71-f9c4-38df820831e4",
        "colab": {
          "base_uri": "https://localhost:8080/",
          "height": 54
        }
      },
      "source": [
        "# self_attention_example \n",
        "\n",
        "input = torch.randn((2,3,10)) # 2개의 문장이고, 문장의 길이 3, 차원은 10\n",
        "output,T=self_attention(input,True)\n",
        "output[0]"
      ],
      "execution_count": 30,
      "outputs": [
        {
          "output_type": "execute_result",
          "data": {
            "text/plain": [
              "tensor([ 0.0084, -0.8782,  0.4450,  0.2926,  0.4998,  0.6445,  0.6326, -0.2476,\n",
              "         0.0546, -0.2087])"
            ]
          },
          "metadata": {
            "tags": []
          },
          "execution_count": 30
        }
      ]
    }
  ]
}