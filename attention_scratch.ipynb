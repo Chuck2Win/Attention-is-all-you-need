{
  "nbformat": 4,
  "nbformat_minor": 0,
  "metadata": {
    "colab": {
      "name": "attention_scratch.ipynb",
      "provenance": [],
      "collapsed_sections": [],
      "authorship_tag": "ABX9TyMHKDqrEay9Xt/ka9cQYDo3",
      "include_colab_link": true
    },
    "kernelspec": {
      "name": "python3",
      "display_name": "Python 3"
    }
  },
  "cells": [
    {
      "cell_type": "markdown",
      "metadata": {
        "id": "view-in-github",
        "colab_type": "text"
      },
      "source": [
        "<a href=\"https://colab.research.google.com/github/Chuck2Win/attention/blob/Attention3_4_10/attention_scratch.ipynb\" target=\"_parent\"><img src=\"https://colab.research.google.com/assets/colab-badge.svg\" alt=\"Open In Colab\"/></a>"
      ]
    },
    {
      "cell_type": "code",
      "metadata": {
        "id": "7V_elFalpMx5",
        "colab_type": "code",
        "colab": {}
      },
      "source": [
        "import numpy as np\n",
        "import torch \n",
        "import torch.nn as nn\n",
        "import torch.nn.functional as F\n",
        "import torchtext\n",
        "from gensim.models import Word2Vec\n",
        "import nltk\n",
        "import os\n",
        "from google.colab import files\n",
        "from google.colab import drive\n",
        "from matplotlib import pyplot as plt"
      ],
      "execution_count": 0,
      "outputs": []
    },
    {
      "cell_type": "code",
      "metadata": {
        "id": "77VplpEWq0b0",
        "colab_type": "code",
        "outputId": "6f4dba7e-1c90-4caa-aba4-af9965c1057b",
        "colab": {
          "base_uri": "https://localhost:8080/",
          "height": 36
        }
      },
      "source": [
        "# google drive와 연동\n",
        "drive.mount('/content/gdrive')"
      ],
      "execution_count": 3,
      "outputs": [
        {
          "output_type": "stream",
          "text": [
            "Drive already mounted at /content/gdrive; to attempt to forcibly remount, call drive.mount(\"/content/gdrive\", force_remount=True).\n"
          ],
          "name": "stdout"
        }
      ]
    },
    {
      "cell_type": "code",
      "metadata": {
        "id": "KI7yyA7PrTKl",
        "colab_type": "code",
        "outputId": "5e3152d2-dc15-422f-cdb1-e41be84fda7c",
        "colab": {
          "base_uri": "https://localhost:8080/",
          "height": 91
        }
      },
      "source": [
        "print(os.getcwd())\n",
        "print(os.listdir('./')) # 현재 directory에 있는 모든 녀석들,..\n",
        "# 기존 경로 + 새로운 폴더 이름으로 새로운 경로 만들기\n",
        "current=os.getcwd()\n",
        "path=os.path.join(current,'gdrive/My Drive/attention')\n",
        "os.chdir(path)\n",
        "print(os.getcwd())\n",
        "# 새로운 directory 만들기\n",
        "#os.mkdir(path)\n",
        "# 새로운 경로로 바꾸기\n",
        "#os.chdir(path)\n",
        "print(os.listdir('./'))"
      ],
      "execution_count": 8,
      "outputs": [
        {
          "output_type": "stream",
          "text": [
            "/content\n",
            "['.config', 'gdrive', 'sample_data']\n",
            "/content/gdrive/My Drive/attention\n",
            "['eng-fra.txt']\n"
          ],
          "name": "stdout"
        }
      ]
    },
    {
      "cell_type": "code",
      "metadata": {
        "id": "ddTxWUn1uHUC",
        "colab_type": "code",
        "outputId": "3b3722c2-3ce4-4494-c87f-26ee6404de0f",
        "colab": {
          "resources": {
            "http://localhost:8080/nbextensions/google.colab/files.js": {
              "data": "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",
              "ok": true,
              "headers": [
                [
                  "content-type",
                  "application/javascript"
                ]
              ],
              "status": 200,
              "status_text": ""
            }
          },
          "base_uri": "https://localhost:8080/",
          "height": 355
        }
      },
      "source": [
        "# drive에 파일 올리기\n",
        "files.upload()"
      ],
      "execution_count": 5,
      "outputs": [
        {
          "output_type": "display_data",
          "data": {
            "text/html": [
              "\n",
              "     <input type=\"file\" id=\"files-4e192691-75ac-4f93-9fb1-43e0f86d3780\" name=\"files[]\" multiple disabled />\n",
              "     <output id=\"result-4e192691-75ac-4f93-9fb1-43e0f86d3780\">\n",
              "      Upload widget is only available when the cell has been executed in the\n",
              "      current browser session. Please rerun this cell to enable.\n",
              "      </output>\n",
              "      <script src=\"/nbextensions/google.colab/files.js\"></script> "
            ],
            "text/plain": [
              "<IPython.core.display.HTML object>"
            ]
          },
          "metadata": {
            "tags": []
          }
        },
        {
          "output_type": "error",
          "ename": "KeyboardInterrupt",
          "evalue": "ignored",
          "traceback": [
            "\u001b[0;31m---------------------------------------------------------------------------\u001b[0m",
            "\u001b[0;31mKeyboardInterrupt\u001b[0m                         Traceback (most recent call last)",
            "\u001b[0;32m<ipython-input-5-63b259460c61>\u001b[0m in \u001b[0;36m<module>\u001b[0;34m()\u001b[0m\n\u001b[0;32m----> 1\u001b[0;31m \u001b[0mfiles\u001b[0m\u001b[0;34m.\u001b[0m\u001b[0mupload\u001b[0m\u001b[0;34m(\u001b[0m\u001b[0;34m)\u001b[0m\u001b[0;34m\u001b[0m\u001b[0;34m\u001b[0m\u001b[0m\n\u001b[0m",
            "\u001b[0;32m/usr/local/lib/python3.6/dist-packages/google/colab/files.py\u001b[0m in \u001b[0;36mupload\u001b[0;34m()\u001b[0m\n\u001b[1;32m     62\u001b[0m   result = _output.eval_js(\n\u001b[1;32m     63\u001b[0m       'google.colab._files._uploadFiles(\"{input_id}\", \"{output_id}\")'.format(\n\u001b[0;32m---> 64\u001b[0;31m           input_id=input_id, output_id=output_id))\n\u001b[0m\u001b[1;32m     65\u001b[0m   \u001b[0mfiles\u001b[0m \u001b[0;34m=\u001b[0m \u001b[0m_collections\u001b[0m\u001b[0;34m.\u001b[0m\u001b[0mdefaultdict\u001b[0m\u001b[0;34m(\u001b[0m\u001b[0m_six\u001b[0m\u001b[0;34m.\u001b[0m\u001b[0mbinary_type\u001b[0m\u001b[0;34m)\u001b[0m\u001b[0;34m\u001b[0m\u001b[0;34m\u001b[0m\u001b[0m\n\u001b[1;32m     66\u001b[0m   \u001b[0;31m# Mapping from original filename to filename as saved locally.\u001b[0m\u001b[0;34m\u001b[0m\u001b[0;34m\u001b[0m\u001b[0;34m\u001b[0m\u001b[0m\n",
            "\u001b[0;32m/usr/local/lib/python3.6/dist-packages/google/colab/output/_js.py\u001b[0m in \u001b[0;36meval_js\u001b[0;34m(script, ignore_result)\u001b[0m\n\u001b[1;32m     37\u001b[0m   \u001b[0;32mif\u001b[0m \u001b[0mignore_result\u001b[0m\u001b[0;34m:\u001b[0m\u001b[0;34m\u001b[0m\u001b[0;34m\u001b[0m\u001b[0m\n\u001b[1;32m     38\u001b[0m     \u001b[0;32mreturn\u001b[0m\u001b[0;34m\u001b[0m\u001b[0;34m\u001b[0m\u001b[0m\n\u001b[0;32m---> 39\u001b[0;31m   \u001b[0;32mreturn\u001b[0m \u001b[0m_message\u001b[0m\u001b[0;34m.\u001b[0m\u001b[0mread_reply_from_input\u001b[0m\u001b[0;34m(\u001b[0m\u001b[0mrequest_id\u001b[0m\u001b[0;34m)\u001b[0m\u001b[0;34m\u001b[0m\u001b[0;34m\u001b[0m\u001b[0m\n\u001b[0m\u001b[1;32m     40\u001b[0m \u001b[0;34m\u001b[0m\u001b[0m\n\u001b[1;32m     41\u001b[0m \u001b[0;34m\u001b[0m\u001b[0m\n",
            "\u001b[0;32m/usr/local/lib/python3.6/dist-packages/google/colab/_message.py\u001b[0m in \u001b[0;36mread_reply_from_input\u001b[0;34m(message_id, timeout_sec)\u001b[0m\n\u001b[1;32m     99\u001b[0m     \u001b[0mreply\u001b[0m \u001b[0;34m=\u001b[0m \u001b[0m_read_next_input_message\u001b[0m\u001b[0;34m(\u001b[0m\u001b[0;34m)\u001b[0m\u001b[0;34m\u001b[0m\u001b[0;34m\u001b[0m\u001b[0m\n\u001b[1;32m    100\u001b[0m     \u001b[0;32mif\u001b[0m \u001b[0mreply\u001b[0m \u001b[0;34m==\u001b[0m \u001b[0m_NOT_READY\u001b[0m \u001b[0;32mor\u001b[0m \u001b[0;32mnot\u001b[0m \u001b[0misinstance\u001b[0m\u001b[0;34m(\u001b[0m\u001b[0mreply\u001b[0m\u001b[0;34m,\u001b[0m \u001b[0mdict\u001b[0m\u001b[0;34m)\u001b[0m\u001b[0;34m:\u001b[0m\u001b[0;34m\u001b[0m\u001b[0;34m\u001b[0m\u001b[0m\n\u001b[0;32m--> 101\u001b[0;31m       \u001b[0mtime\u001b[0m\u001b[0;34m.\u001b[0m\u001b[0msleep\u001b[0m\u001b[0;34m(\u001b[0m\u001b[0;36m0.025\u001b[0m\u001b[0;34m)\u001b[0m\u001b[0;34m\u001b[0m\u001b[0;34m\u001b[0m\u001b[0m\n\u001b[0m\u001b[1;32m    102\u001b[0m       \u001b[0;32mcontinue\u001b[0m\u001b[0;34m\u001b[0m\u001b[0;34m\u001b[0m\u001b[0m\n\u001b[1;32m    103\u001b[0m     if (reply.get('type') == 'colab_reply' and\n",
            "\u001b[0;31mKeyboardInterrupt\u001b[0m: "
          ]
        }
      ]
    },
    {
      "cell_type": "code",
      "metadata": {
        "id": "PGNRp91juj8C",
        "colab_type": "code",
        "colab": {}
      },
      "source": [
        "import pandas as pd\n",
        "from pandas import DataFrame as df\n",
        "data=pd.read_csv('./eng-fra.txt',sep='\\t',names=['english','french'],header=None) # column명이 없는 경우 column 명을 지정하고, 불러온다."
      ],
      "execution_count": 0,
      "outputs": []
    },
    {
      "cell_type": "code",
      "metadata": {
        "id": "pbbQ_X66vWI2",
        "colab_type": "code",
        "outputId": "403f9c81-c460-4cb2-90d3-6f279d819c8e",
        "colab": {
          "base_uri": "https://localhost:8080/",
          "height": 198
        }
      },
      "source": [
        "data.head()"
      ],
      "execution_count": 10,
      "outputs": [
        {
          "output_type": "execute_result",
          "data": {
            "text/html": [
              "<div>\n",
              "<style scoped>\n",
              "    .dataframe tbody tr th:only-of-type {\n",
              "        vertical-align: middle;\n",
              "    }\n",
              "\n",
              "    .dataframe tbody tr th {\n",
              "        vertical-align: top;\n",
              "    }\n",
              "\n",
              "    .dataframe thead th {\n",
              "        text-align: right;\n",
              "    }\n",
              "</style>\n",
              "<table border=\"1\" class=\"dataframe\">\n",
              "  <thead>\n",
              "    <tr style=\"text-align: right;\">\n",
              "      <th></th>\n",
              "      <th>english</th>\n",
              "      <th>french</th>\n",
              "    </tr>\n",
              "  </thead>\n",
              "  <tbody>\n",
              "    <tr>\n",
              "      <th>0</th>\n",
              "      <td>Go.</td>\n",
              "      <td>Va !</td>\n",
              "    </tr>\n",
              "    <tr>\n",
              "      <th>1</th>\n",
              "      <td>Run!</td>\n",
              "      <td>Cours !</td>\n",
              "    </tr>\n",
              "    <tr>\n",
              "      <th>2</th>\n",
              "      <td>Run!</td>\n",
              "      <td>Courez !</td>\n",
              "    </tr>\n",
              "    <tr>\n",
              "      <th>3</th>\n",
              "      <td>Wow!</td>\n",
              "      <td>Ça alors !</td>\n",
              "    </tr>\n",
              "    <tr>\n",
              "      <th>4</th>\n",
              "      <td>Fire!</td>\n",
              "      <td>Au feu !</td>\n",
              "    </tr>\n",
              "  </tbody>\n",
              "</table>\n",
              "</div>"
            ],
            "text/plain": [
              "  english      french\n",
              "0     Go.        Va !\n",
              "1    Run!     Cours !\n",
              "2    Run!    Courez !\n",
              "3    Wow!  Ça alors !\n",
              "4   Fire!    Au feu !"
            ]
          },
          "metadata": {
            "tags": []
          },
          "execution_count": 10
        }
      ]
    },
    {
      "cell_type": "code",
      "metadata": {
        "id": "uNh_wQQJwH6p",
        "colab_type": "code",
        "colab": {}
      },
      "source": [
        "# nltk의 word tokenize를 활용해보고\n",
        "# 일단 lower를 진행.."
      ],
      "execution_count": 0,
      "outputs": []
    },
    {
      "cell_type": "code",
      "metadata": {
        "id": "P6WCn5UWxTgV",
        "colab_type": "code",
        "outputId": "a931b12d-577f-4940-e21f-4453ce984544",
        "colab": {
          "base_uri": "https://localhost:8080/",
          "height": 54
        }
      },
      "source": [
        "# tokenize하기\n",
        "nltk.download('punkt')\n",
        "from nltk.tokenize import word_tokenize\n",
        "# word_tokenize(sentene) <- dataframe이 들어가면 안된다...\n",
        "data['tokenized_eng']=data['english'].str.lower().apply(lambda i : word_tokenize(i,language='english'))\n",
        "data['tokenized_french']=data['french'].str.lower().apply(lambda i : word_tokenize(i,language='french'))"
      ],
      "execution_count": 12,
      "outputs": [
        {
          "output_type": "stream",
          "text": [
            "[nltk_data] Downloading package punkt to /root/nltk_data...\n",
            "[nltk_data]   Package punkt is already up-to-date!\n"
          ],
          "name": "stdout"
        }
      ]
    },
    {
      "cell_type": "code",
      "metadata": {
        "id": "uot2JUQDyR8J",
        "colab_type": "code",
        "outputId": "f668cb7c-57e1-41b9-a7fa-3af605168fac",
        "colab": {
          "base_uri": "https://localhost:8080/",
          "height": 54
        }
      },
      "source": [
        "# torch text를 활용않고, vocabulary 만들어서 진행하자....\n",
        "print(max(data['tokenized_eng'].apply(lambda i : len(i)))) # 51 \n",
        "print(max(data['tokenized_french'].apply(lambda i : len(i)))) # 58"
      ],
      "execution_count": 13,
      "outputs": [
        {
          "output_type": "stream",
          "text": [
            "51\n",
            "58\n"
          ],
          "name": "stdout"
        }
      ]
    },
    {
      "cell_type": "code",
      "metadata": {
        "id": "QO_p_6c_5p9-",
        "colab_type": "code",
        "colab": {}
      },
      "source": [
        "# 만약 다 손수 한다면...\n",
        "def make_vocab(sentences,min_count=3):\n",
        "    # sentences는 pandas 형태일 것이다.\n",
        "    result={}\n",
        "    \n",
        "    for sentence in sentences:\n",
        "        for vocab in sentence:\n",
        "            if vocab not in result.keys():\n",
        "                result[vocab]=1\n",
        "            else:\n",
        "                result[vocab]+=1\n",
        "    #<- Counter 역할을 한 것이고.\n",
        "    Result={key:_+4 for _,key in enumerate(result.keys()) if result[key]>=min_count}\n",
        "    Result['<unk>']=0\n",
        "    Result['<pad>']=1\n",
        "    Result['<sos>']=2\n",
        "    Result['<eos>']=3\n",
        "    return Result\n",
        "english_index=make_vocab(data.tokenized_eng)\n",
        "french_index=make_vocab(data.tokenized_french)"
      ],
      "execution_count": 0,
      "outputs": []
    },
    {
      "cell_type": "code",
      "metadata": {
        "id": "vYm_EtA4JNOO",
        "colab_type": "code",
        "colab": {}
      },
      "source": [
        "# tokenized->vectorization # ㅋㅋㅋ 결국 padding 진행\n",
        "def vectorizing(sentence,word2index,max_len=64):\n",
        "    result=[2]\n",
        "    for i in sentence:\n",
        "        if i in word2index.keys():\n",
        "            result.append(word2index[i])\n",
        "        else:\n",
        "            result.append(word2index['<unk>'])\n",
        "    result.append(3)\n",
        "    l=max_len-len(sentence)\n",
        "    result.extend([1]*l)\n",
        "    return result\n",
        "data['vectorized_eng']=data['tokenized_eng'].apply(lambda i : vectorizing(i,english_index))\n",
        "data['vectorized_fr']=data['tokenized_french'].apply(lambda i : vectorizing(i,french_index))"
      ],
      "execution_count": 0,
      "outputs": []
    },
    {
      "cell_type": "code",
      "metadata": {
        "id": "5tYpdQYTMFMY",
        "colab_type": "code",
        "outputId": "04c659c5-fa0a-4147-dfcd-38d826a90521",
        "colab": {
          "base_uri": "https://localhost:8080/",
          "height": 73
        }
      },
      "source": [
        "print(english_index['<sos>']) # 2\n",
        "print(english_index['<eos>']) # 3\n",
        "print(len(english_index.keys()))"
      ],
      "execution_count": 125,
      "outputs": [
        {
          "output_type": "stream",
          "text": [
            "2\n",
            "3\n",
            "7170\n"
          ],
          "name": "stdout"
        }
      ]
    },
    {
      "cell_type": "code",
      "metadata": {
        "id": "xX3g5myTL5m3",
        "colab_type": "code",
        "outputId": "ed4aa32e-6107-440e-c8c1-7b50fa60afec",
        "colab": {
          "base_uri": "https://localhost:8080/",
          "height": 258
        }
      },
      "source": [
        "# vectorized_eng -> vectorized_fr\n",
        "print(data.vectorized_eng.head())\n",
        "print(data.vectorized_fr.head())"
      ],
      "execution_count": 86,
      "outputs": [
        {
          "output_type": "stream",
          "text": [
            "0    [2, 4, 5, 3, 1, 1, 1, 1, 1, 1, 1, 1, 1, 1, 1, ...\n",
            "1    [2, 6, 7, 3, 1, 1, 1, 1, 1, 1, 1, 1, 1, 1, 1, ...\n",
            "2    [2, 6, 7, 3, 1, 1, 1, 1, 1, 1, 1, 1, 1, 1, 1, ...\n",
            "3    [2, 8, 7, 3, 1, 1, 1, 1, 1, 1, 1, 1, 1, 1, 1, ...\n",
            "4    [2, 9, 7, 3, 1, 1, 1, 1, 1, 1, 1, 1, 1, 1, 1, ...\n",
            "Name: vectorized_eng, dtype: object\n",
            "0    [2, 4, 5, 3, 1, 1, 1, 1, 1, 1, 1, 1, 1, 1, 1, ...\n",
            "1    [2, 6, 5, 3, 1, 1, 1, 1, 1, 1, 1, 1, 1, 1, 1, ...\n",
            "2    [2, 7, 5, 3, 1, 1, 1, 1, 1, 1, 1, 1, 1, 1, 1, ...\n",
            "3    [2, 8, 9, 5, 3, 1, 1, 1, 1, 1, 1, 1, 1, 1, 1, ...\n",
            "4    [2, 10, 11, 5, 3, 1, 1, 1, 1, 1, 1, 1, 1, 1, 1...\n",
            "Name: vectorized_fr, dtype: object\n",
            "66\n"
          ],
          "name": "stdout"
        }
      ]
    },
    {
      "cell_type": "code",
      "metadata": {
        "id": "dZdBpy8GBRnI",
        "colab_type": "code",
        "colab": {}
      },
      "source": [
        "### 여기까진 데이터 전처리 ###"
      ],
      "execution_count": 0,
      "outputs": []
    },
    {
      "cell_type": "code",
      "metadata": {
        "id": "mHEwbKSPBcmh",
        "colab_type": "code",
        "colab": {}
      },
      "source": [
        "## torch.utils.data.DataLoader을 활용할 것인데\n",
        "x=torch.tensor(data['vectorized_eng'].to_list())\n",
        "y=torch.tensor(data['vectorized_fr'].to_list())\n",
        "X=torch.utils.data.TensorDataset(x,y)\n",
        "train_loader=torch.utils.data.DataLoader(X,batch_size=64,drop_last=True)"
      ],
      "execution_count": 0,
      "outputs": []
    },
    {
      "cell_type": "code",
      "metadata": {
        "id": "YNMFQFaVEd92",
        "colab_type": "code",
        "colab": {}
      },
      "source": [
        "batch=next(iter(train_loader))"
      ],
      "execution_count": 0,
      "outputs": []
    },
    {
      "cell_type": "code",
      "metadata": {
        "id": "mB9KyL0JCskA",
        "colab_type": "code",
        "outputId": "93c2437f-995c-4aa3-80c3-b8012d8602d6",
        "colab": {
          "base_uri": "https://localhost:8080/",
          "height": 314
        }
      },
      "source": [
        "print(batch[0].shape) # 4,66\n",
        "print(batch[0]) # english\n",
        "print(batch[1].shape) # 64,66\n",
        "print(batch[1]) # french"
      ],
      "execution_count": 153,
      "outputs": [
        {
          "output_type": "stream",
          "text": [
            "torch.Size([64, 66])\n",
            "tensor([[ 2,  4,  5,  ...,  1,  1,  1],\n",
            "        [ 2,  6,  7,  ...,  1,  1,  1],\n",
            "        [ 2,  6,  7,  ...,  1,  1,  1],\n",
            "        ...,\n",
            "        [ 2, 46, 47,  ...,  1,  1,  1],\n",
            "        [ 2, 46, 47,  ...,  1,  1,  1],\n",
            "        [ 2, 46, 48,  ...,  1,  1,  1]])\n",
            "torch.Size([64, 66])\n",
            "tensor([[ 2,  4,  5,  ...,  1,  1,  1],\n",
            "        [ 2,  6,  5,  ...,  1,  1,  1],\n",
            "        [ 2,  7,  5,  ...,  1,  1,  1],\n",
            "        ...,\n",
            "        [ 2, 92, 91,  ...,  1,  1,  1],\n",
            "        [ 2, 92, 93,  ...,  1,  1,  1],\n",
            "        [ 2, 90, 94,  ...,  1,  1,  1]])\n"
          ],
          "name": "stdout"
        }
      ]
    },
    {
      "cell_type": "code",
      "metadata": {
        "id": "4en9bUz43uN9",
        "colab_type": "code",
        "colab": {}
      },
      "source": [
        "# positional encoding을 해줘야한다.(실제 모델에서는 pretrained 모델을 활용한다고 했다)\n",
        "def positional_encoding(input):\n",
        "    # input shape : [n,seq_len,embedding_dim]\n",
        "    def for_insert(input):\n",
        "        # input shape : n, seq_len, embedding_dim\n",
        "        for i in range(input.shape[1]):\n",
        "            for j in range(input.shape[2]):\n",
        "                input[:,i,j]=torch.tensor(i/(10000)**(j/input.shape[2]))\n",
        "        return input\n",
        "    pe=for_insert(input)\n",
        "    pe[:,:,0::2]=torch.sin(pe[:,:,0::2])\n",
        "    pe[:,:,1::2]=torch.cos(pe[:,:,0::2])\n",
        "    return pe"
      ],
      "execution_count": 0,
      "outputs": []
    },
    {
      "cell_type": "code",
      "metadata": {
        "id": "2wv8zImVfpFU",
        "colab_type": "code",
        "colab": {}
      },
      "source": [
        "def self_attention(input,Mask=False):\n",
        "\n",
        "    # scaled dot product attention\n",
        "    # input shape : [n,seq_len,embedding_dim]\n",
        "    Result=[]\n",
        "    mask=torch.ones((input.shape[1],input.shape[1])).triu(diagonal=1).bool() # seq_len,seq_len\n",
        "    for ba in range(input.shape[0]):\n",
        "        Q=input[ba]\n",
        "        K=Q\n",
        "        V=Q\n",
        "        T=Q.matmul(K.T)/torch.sqrt(torch.tensor(Q.shape[-1]).float())\n",
        "        if Mask:\n",
        "            T.masked_fill_(mask,1e-7)\n",
        "        weight=F.softmax(T,dim=-1)\n",
        "        # weight : seq_len, seq_len\n",
        "        attention_score=weight.matmul(V)\n",
        "        # attention score : seq_len,embedding_dim\n",
        "        Result.append(attention_score)\n",
        "    return torch.stack(Result,0)# Result : n, seq_len, embedding_dim"
      ],
      "execution_count": 0,
      "outputs": []
    },
    {
      "cell_type": "code",
      "metadata": {
        "id": "QZBosnhvxhBL",
        "colab_type": "code",
        "colab": {}
      },
      "source": [
        "def attention(encoder_input,decoder_input):\n",
        "    # scaled dot product attention\n",
        "    # encoder_input shape : [n,encoder_seq_len,encoder_embedding_dim]\n",
        "    # decoder_input shape : [n,decoder_seq_len,decoder_embedding_dim]\n",
        "    Result=[]\n",
        "    for ba in range(encoder_input.shape[0]):\n",
        "        Q=decoder_input[ba]\n",
        "        K=encoder_input[ba]\n",
        "        V=encoder_input[ba]\n",
        "        T=Q.matmul(K.T)/torch.sqrt(torch.tensor(Q.shape[-1]).float())\n",
        "        weight=F.softmax(T,dim=-1)\n",
        "        # weight : seq_len, seq_len\n",
        "        attention_score=weight.matmul(V)\n",
        "        # attention score : seq_len,embedding_dim\n",
        "        Result.append(attention_score)\n",
        "    return torch.stack(Result,0)# Result : n, seq_len, embedding_dim"
      ],
      "execution_count": 0,
      "outputs": []
    },
    {
      "cell_type": "code",
      "metadata": {
        "id": "NAMjSaXi4zb9",
        "colab_type": "code",
        "colab": {}
      },
      "source": [
        "class attention_encoder(nn.Module): # 완료\n",
        "    def __init__(self,n_vocab,seq_len,embedding_dim):\n",
        "        super().__init__()\n",
        "        self.embedding=nn.Embedding(n_vocab,embedding_dim)\n",
        "        self.embedding.weight.required_grad=False\n",
        "        self.embedding.weight\n",
        "        self.fc=nn.Sequential(nn.Linear(embedding_dim,embedding_dim*4),nn.ReLU(),nn.Linear(embedding_dim*4,embedding_dim))\n",
        "        self.batch1=nn.BatchNorm1d(seq_len)\n",
        "        self.batch2=nn.BatchNorm1d(seq_len)\n",
        "    def forward(self,input):\n",
        "        # input shape : [n,seq_len] # n batch size\n",
        "        x=self.embedding(input) # x : [n,seq_len,embedding_dim]\n",
        "        self.pe=positional_encoding(x)\n",
        "        x=self_attention(x)\n",
        "        x=self.batch1(x+self.pe)\n",
        "        # x=layer_normalization(x+x_) # residual block\n",
        "        x=self.batch2(self.fc(x)+x)\n",
        "        return x"
      ],
      "execution_count": 0,
      "outputs": []
    },
    {
      "cell_type": "code",
      "metadata": {
        "id": "0q19VvIbuXP0",
        "colab_type": "code",
        "colab": {}
      },
      "source": [
        "# attention encoder example\n",
        "model_encoder=attention_encoder(7170,66,300)\n",
        "encoder_output=model_encoder(batch[0])"
      ],
      "execution_count": 0,
      "outputs": []
    },
    {
      "cell_type": "code",
      "metadata": {
        "id": "mtQcYTLkPSD7",
        "colab_type": "code",
        "colab": {}
      },
      "source": [
        "class attention_decoder(nn.Module): # encoder와의 차이점 - masking을 해줘야 함. \n",
        "    def __init__(self,n_vocab,seq_len,embedding_dim):\n",
        "        super().__init__()\n",
        "        self.embedding=nn.Embedding(n_vocab,embedding_dim)\n",
        "        self.batch1=nn.BatchNorm1d(seq_len) # 여기에 seq_len이 들어가야한다.\n",
        "        self.fc1=nn.Sequential(nn.Linear(embedding_dim,embedding_dim*4),nn.ReLU(),nn.Linear(embedding_dim*4,embedding_dim))\n",
        "        self.batch2=nn.BatchNorm1d(seq_len)\n",
        "        self.batch3=nn.BatchNorm1d(seq_len)\n",
        "        self.fc2=nn.Sequential(nn.Linear(embedding_dim,embedding_dim*4),nn.ReLU(),nn.Linear(embedding_dim*4,embedding_dim))\n",
        "    def forward(self,input,encoder_output):\n",
        "        # input shape : [n,seq_len] # n batch size\n",
        "        # encoder_output : [n,encoder_seq_len,encoder_embedding_dim]\n",
        "        \n",
        "        #1. decoder_self_attention\n",
        "        x=self.embedding(input) # x : [n,decoder_seq_len,decoder_embedding_dim]\n",
        "        self.pe=positional_encoding(x)\n",
        "        x=self_attention(x,True)\n",
        "        x=self.batch1(x+self.pe)\n",
        "        # x=layer_normalization(x+x_) # residual block\n",
        "        x=self.batch2(self.fc1(x)+x)\n",
        "        # x shape : [n,decoder_seq_len,decoder_embedding_dim]\n",
        "        \n",
        "        #2. decoder_encoder_attention\n",
        "        output=attention(encoder_output,x)\n",
        "        x=self.batch3(output+x)\n",
        "\n",
        "        #3. fc2 layer\n",
        "        x=self.batch3(self.fc2(x)+x)\n",
        "\n",
        "        #4. \n",
        "        return output\n"
      ],
      "execution_count": 0,
      "outputs": []
    },
    {
      "cell_type": "code",
      "metadata": {
        "id": "klcg6BYGzBSz",
        "colab_type": "code",
        "colab": {
          "base_uri": "https://localhost:8080/",
          "height": 36
        },
        "outputId": "3885a01b-47de-4c48-9fc5-c76d7301904b"
      },
      "source": [
        "model_decoder=attention_decoder(12238,66,300)\n",
        "# model_encoder=attention_encoder(7170,66,300)\n",
        "decoder_output=model_decoder(batch[1],encoder_output)\n",
        "\n",
        "print(decoder_output.shape)"
      ],
      "execution_count": 160,
      "outputs": [
        {
          "output_type": "stream",
          "text": [
            "torch.Size([64, 66, 300])\n"
          ],
          "name": "stdout"
        }
      ]
    },
    {
      "cell_type": "code",
      "metadata": {
        "id": "Zq83n6mRQMGW",
        "colab_type": "code",
        "colab": {}
      },
      "source": [
        "# pytorch를 위한 dataset 구성하기\n",
        "# x=torch.tensor(data['vectorized_eng'].to_numpy())\n",
        "# https://discuss.pytorch.org/t/dataloader-for-various-length-of-data/6418\n",
        "# dataset_eng=torch.utils.data.TensorDataset(x)\n",
        "# 에러.. 어차피 TensorDataset을 만드려면,, 격자 구조가 되야되네.."
      ],
      "execution_count": 0,
      "outputs": []
    },
    {
      "cell_type": "code",
      "metadata": {
        "id": "H37i7uOERRRG",
        "colab_type": "code",
        "colab": {}
      },
      "source": [
        "# x=data.vectorized_eng.to_numpy()\n",
        "# eng_dataloader=torch.utils.data.DataLoader(x,batch_size=1,drop_last=True)\n",
        "# batch=next(iter(eng_dataloader))\n",
        "# print(batch)\n",
        "# https://pytorch.org/tutorials/beginner/text_sentiment_ngrams_tutorial.html 참조\n",
        "# 사실상 padding을 해서 torch.utils.data.TensorDataset()으로 만들어서 DataLoader로 진행하는 것이 깔끔은 하다.\n",
        "# 하지만 그런식으로 하기 싫을 경우도 대비해서 한번 배워보자\n",
        "# # torch.utils.data.DataLoader()\n",
        "# def batch_maker(batch):\n",
        "#     batch=torch.tensor(batch)\n",
        "#     return batch\n",
        "# loader=torch.utils.data.DataLoader(x,2,collate_fn=batch_maker,shuffle=True) # collate function은 단순히 mini batch로 묶어주기 전에, 각각의 data에 대해서 어떻게 처리하냐에 대한 것을 알려주네..."
      ],
      "execution_count": 0,
      "outputs": []
    },
    {
      "cell_type": "code",
      "metadata": {
        "id": "Ejcn-qi3RHZI",
        "colab_type": "code",
        "colab": {
          "base_uri": "https://localhost:8080/",
          "height": 54
        },
        "outputId": "e83111c1-4a46-468d-eab4-a420a3408080"
      },
      "source": [
        "# https://paul-hyun.github.io/transformer-01/ 참고\n",
        "input=torch.tensor([[3091, 3604,  206, 3958, 3760, 3590,    0,    0],\n",
        "        [ 212, 3605,   53, 3832, 3596, 3682, 3760, 3590]]\n",
        "        )\n",
        "input.eq(0) # input 중에서 0이랑 equal한 녀석을 말하는 것이구나,\n",
        "print(input.eq(0))\n",
        "attn_mask=input.eq(0).unsqueeze(1).expand(2,8,8)\n",
        "scores=torch.tensor([[31.3476, -0.1451, -1.4832, -2.8843, -1.2542,  0.8314, -5.7174, -5.7174],\n",
        "        [-0.1451, 27.8460,  4.9304,  0.8781,  1.5047,  1.6372,  0.5585,  0.5585],\n",
        "        [-1.4832,  4.9304, 26.8313,  3.9618,  2.1587,  3.5587,  3.0447,  3.0447],\n",
        "        [-2.8843,  0.8781,  3.9618, 27.9037,  1.6892,  4.0453,  4.7429,  4.7429],\n",
        "        [-1.2542,  1.5047,  2.1587,  1.6892, 32.0763,  4.0136, -1.1263, -1.1263],\n",
        "        [ 0.8314,  1.6372,  3.5587,  4.0453,  4.0136, 38.0982, -2.7216, -2.7216],\n",
        "        [-5.7174,  0.5585,  3.0447,  4.7429, -1.1263, -2.7216, 56.9788, 56.9788],\n",
        "\n",
        "\n",
        "        [-5.7174,  0.5585,  3.0447,  4.7429, -1.1263, -2.7216, 56.9788, 56.9788]])\n",
        "scores=scores.expand(2,8,8)\n",
        "scores.masked_fill_(attn_mask,0)\n",
        "seq=torch.randn((1,10))\n",
        "subsequent_mask = torch.ones_like(seq).unsqueeze(-1).expand(seq.size(0), seq.size(1), seq.size(1))\n",
        "print(subsequent_mask)\n",
        "subsequent_mask = subsequent_mask.triu(diagonal=1) # upper triangular part of a matrix(2-D), diagonal=1은 diagonal에서 위로 1칸 부터 1을 채운다는 것\n",
        "print(subsequent_mask)\n",
        "subsequent_mask = subsequent_mask.triu(diagonal=2) # diagonal=2은 diagonal에서  위로 2칸까지 1을 채운다는 것\n",
        "print(subsequent_mask)"
      ],
      "execution_count": 71,
      "outputs": [
        {
          "output_type": "stream",
          "text": [
            "tensor([[False, False, False, False, False, False,  True,  True],\n",
            "        [False, False, False, False, False, False, False, False]])\n"
          ],
          "name": "stdout"
        }
      ]
    },
    {
      "cell_type": "code",
      "metadata": {
        "id": "RphBnyymps7S",
        "colab_type": "code",
        "colab": {
          "base_uri": "https://localhost:8080/",
          "height": 54
        },
        "outputId": "3b44ff1b-f60f-4785-ba29-182e5b64d18c"
      },
      "source": [
        "# self_attention_example \n",
        "\n",
        "input = torch.randn((2,3,10)) # 2개의 문장이고, 문장의 길이 3, 차원은 10\n",
        "output,T=self_attention(input,True)\n",
        "output[0]"
      ],
      "execution_count": 124,
      "outputs": [
        {
          "output_type": "execute_result",
          "data": {
            "text/plain": [
              "tensor([ 1.1870,  0.2906, -0.8740, -0.9634, -0.4164, -0.9439, -1.5815, -0.1751,\n",
              "        -0.8899,  0.7945])"
            ]
          },
          "metadata": {
            "tags": []
          },
          "execution_count": 124
        }
      ]
    }
  ]
}