{
  "nbformat": 4,
  "nbformat_minor": 0,
  "metadata": {
    "colab": {
      "name": "attention_scratch.ipynb",
      "provenance": [],
      "collapsed_sections": [],
      "authorship_tag": "ABX9TyPBiqXz+VxGgjv8cPUM0++Y",
      "include_colab_link": true
    },
    "kernelspec": {
      "name": "python3",
      "display_name": "Python 3"
    }
  },
  "cells": [
    {
      "cell_type": "markdown",
      "metadata": {
        "id": "view-in-github",
        "colab_type": "text"
      },
      "source": [
        "<a href=\"https://colab.research.google.com/github/Chuck2Win/attention/blob/4%2F17/attention_scratch.ipynb\" target=\"_parent\"><img src=\"https://colab.research.google.com/assets/colab-badge.svg\" alt=\"Open In Colab\"/></a>"
      ]
    },
    {
      "cell_type": "code",
      "metadata": {
        "id": "9A0BHxdqZihS",
        "colab_type": "code",
        "colab": {}
      },
      "source": [
        "# 배움\n",
        "# transformer 모델에는 많은 설정이 필요하다. 이를 위해선 json형태(dict)로 지정하고 \n",
        "# 이를 읽어서 처리하는 간단한 클래스\n",
        "class Config(dict):\n",
        "    # 전역적으로 변수를 선언했다. 그냥 dictionary를 받으면 그 형태로 반환한다는 뜻\n",
        "    __getattr__=dict.__getitem__\n",
        "    __setattr__=dict.__setitem__\n",
        "    @classmethod # beginning of a line is used for class, function, and method decorators.\n",
        "    def load(cls, file):\n",
        "        with open(file, 'r') as f:\n",
        "            config = json.loads(f.read())\n",
        "            return Config(config)\n",
        "config=Config({'en_vocab':7170,\n",
        "'fr_vocab':12238,\n",
        "'en_seq_len':66,\n",
        "'fr_seq_len':66,\n",
        "'embedding':300,\n",
        "'batch':64,\n",
        "'epochs':10})"
      ],
      "execution_count": 0,
      "outputs": []
    },
    {
      "cell_type": "code",
      "metadata": {
        "id": "7V_elFalpMx5",
        "colab_type": "code",
        "colab": {}
      },
      "source": [
        "import numpy as np\n",
        "import torch \n",
        "import torch.nn as nn\n",
        "import torch.nn.functional as F\n",
        "import torchtext\n",
        "from gensim.models import Word2Vec\n",
        "import nltk\n",
        "import os\n",
        "from google.colab import files\n",
        "from google.colab import drive\n",
        "from matplotlib import pyplot as plt\n",
        "import json"
      ],
      "execution_count": 0,
      "outputs": []
    },
    {
      "cell_type": "code",
      "metadata": {
        "id": "77VplpEWq0b0",
        "colab_type": "code",
        "outputId": "93a670d8-3b47-4371-b822-da52cc02332a",
        "colab": {
          "base_uri": "https://localhost:8080/",
          "height": 55
        }
      },
      "source": [
        "# google drive와 연동\n",
        "drive.mount('/content/gdrive')"
      ],
      "execution_count": 168,
      "outputs": [
        {
          "output_type": "stream",
          "text": [
            "Drive already mounted at /content/gdrive; to attempt to forcibly remount, call drive.mount(\"/content/gdrive\", force_remount=True).\n"
          ],
          "name": "stdout"
        }
      ]
    },
    {
      "cell_type": "code",
      "metadata": {
        "id": "KI7yyA7PrTKl",
        "colab_type": "code",
        "colab": {}
      },
      "source": [
        "print(os.getcwd())\n",
        "print(os.listdir('./')) # 현재 directory에 있는 모든 녀석들,..\n",
        "# 기존 경로 + 새로운 폴더 이름으로 새로운 경로 만들기\n",
        "current=os.getcwd()\n",
        "path=os.path.join(current,'gdrive/My Drive/attention')\n",
        "os.chdir(path)\n",
        "print(os.getcwd())\n",
        "# 새로운 directory 만들기\n",
        "#os.mkdir(path)\n",
        "# 새로운 경로로 바꾸기\n",
        "#os.chdir(path)\n",
        "print(os.listdir('./'))"
      ],
      "execution_count": 0,
      "outputs": []
    },
    {
      "cell_type": "code",
      "metadata": {
        "id": "ddTxWUn1uHUC",
        "colab_type": "code",
        "colab": {}
      },
      "source": [
        "# drive에 파일 올리기\n",
        "#files.upload()"
      ],
      "execution_count": 0,
      "outputs": []
    },
    {
      "cell_type": "code",
      "metadata": {
        "id": "PGNRp91juj8C",
        "colab_type": "code",
        "colab": {}
      },
      "source": [
        "import pandas as pd\n",
        "from pandas import DataFrame as df\n",
        "data=pd.read_csv('./eng-fra.txt',sep='\\t',names=['english','french'],header=None) # column명이 없는 경우 column 명을 지정하고, 불러온다."
      ],
      "execution_count": 0,
      "outputs": []
    },
    {
      "cell_type": "code",
      "metadata": {
        "id": "pbbQ_X66vWI2",
        "colab_type": "code",
        "colab": {}
      },
      "source": [
        "data.head()"
      ],
      "execution_count": 0,
      "outputs": []
    },
    {
      "cell_type": "code",
      "metadata": {
        "id": "uNh_wQQJwH6p",
        "colab_type": "code",
        "colab": {}
      },
      "source": [
        "# nltk의 word tokenize를 활용해보고\n",
        "# 일단 lower를 진행.."
      ],
      "execution_count": 0,
      "outputs": []
    },
    {
      "cell_type": "code",
      "metadata": {
        "id": "P6WCn5UWxTgV",
        "colab_type": "code",
        "colab": {}
      },
      "source": [
        "# tokenize하기\n",
        "nltk.download('punkt')\n",
        "from nltk.tokenize import word_tokenize\n",
        "# word_tokenize(sentene) <- dataframe이 들어가면 안된다...\n",
        "data['tokenized_eng']=data['english'].str.lower().apply(lambda i : word_tokenize(i,language='english'))\n",
        "data['tokenized_french']=data['french'].str.lower().apply(lambda i : word_tokenize(i,language='french'))"
      ],
      "execution_count": 0,
      "outputs": []
    },
    {
      "cell_type": "code",
      "metadata": {
        "id": "uot2JUQDyR8J",
        "colab_type": "code",
        "colab": {}
      },
      "source": [
        "# torch text를 활용않고, vocabulary 만들어서 진행하자....\n",
        "print(max(data['tokenized_eng'].apply(lambda i : len(i)))) # 51 \n",
        "print(max(data['tokenized_french'].apply(lambda i : len(i)))) # 58"
      ],
      "execution_count": 0,
      "outputs": []
    },
    {
      "cell_type": "code",
      "metadata": {
        "id": "QO_p_6c_5p9-",
        "colab_type": "code",
        "colab": {}
      },
      "source": [
        "# 만약 다 손수 한다면...\n",
        "def make_vocab(sentences,min_count=3):\n",
        "    # sentences는 pandas 형태일 것이다.\n",
        "    result={}\n",
        "    \n",
        "    for sentence in sentences:\n",
        "        for vocab in sentence:\n",
        "            if vocab not in result.keys():\n",
        "                result[vocab]=1\n",
        "            else:\n",
        "                result[vocab]+=1\n",
        "    #<- Counter 역할을 한 것이고.\n",
        "    Result={key:_+4 for _,key in enumerate(result.keys()) if result[key]>=min_count}\n",
        "    Result['<unk>']=0\n",
        "    Result['<pad>']=1\n",
        "    Result['<sos>']=2\n",
        "    Result['<eos>']=3\n",
        "    return Result\n",
        "english_index=make_vocab(data.tokenized_eng)\n",
        "french_index=make_vocab(data.tokenized_french)"
      ],
      "execution_count": 0,
      "outputs": []
    },
    {
      "cell_type": "code",
      "metadata": {
        "id": "HlocjhsMWKgJ",
        "colab_type": "code",
        "colab": {}
      },
      "source": [
        "print(len((english_index.keys())))\n",
        "print(len((french_index.keys())))"
      ],
      "execution_count": 0,
      "outputs": []
    },
    {
      "cell_type": "code",
      "metadata": {
        "id": "vYm_EtA4JNOO",
        "colab_type": "code",
        "colab": {}
      },
      "source": [
        "# tokenized->vectorization # ㅋㅋㅋ 결국 padding 진행\n",
        "def vectorizing(sentence,word2index,max_len=64):\n",
        "    result=[2]\n",
        "    for i in sentence:\n",
        "        if i in word2index.keys():\n",
        "            result.append(word2index[i])\n",
        "        else:\n",
        "            result.append(word2index['<unk>'])\n",
        "    result.append(3)\n",
        "    l=max_len-len(sentence)\n",
        "    result.extend([1]*l)\n",
        "    return result\n",
        "data['vectorized_eng']=data['tokenized_eng'].apply(lambda i : vectorizing(i,english_index))\n",
        "data['vectorized_fr']=data['tokenized_french'].apply(lambda i : vectorizing(i,french_index))"
      ],
      "execution_count": 0,
      "outputs": []
    },
    {
      "cell_type": "code",
      "metadata": {
        "id": "vvQEUpyRd49L",
        "colab_type": "code",
        "colab": {}
      },
      "source": [
        "# https://paul-hyun.github.io/transformer-01/ 참조\n",
        "# padding을 진행할 때에 torch.nn.utils.rnn.pad_sequence(inputs,batch_first,padding_value)\n",
        "# 입력 최대 길이에 맞춰서 padding 진행\n",
        "L=[]\n",
        "L.append(torch.tensor([1,2,3]))\n",
        "L.append(torch.tensor([1,2,3,4,5]))\n",
        "torch.nn.utils.rnn.pad_sequence(L,batch_first=True,padding_value=1)"
      ],
      "execution_count": 0,
      "outputs": []
    },
    {
      "cell_type": "code",
      "metadata": {
        "id": "5tYpdQYTMFMY",
        "colab_type": "code",
        "colab": {}
      },
      "source": [
        "print(english_index['<sos>']) # 2\n",
        "print(english_index['<eos>']) # 3\n",
        "print(len(english_index.keys()))"
      ],
      "execution_count": 0,
      "outputs": []
    },
    {
      "cell_type": "code",
      "metadata": {
        "id": "xX3g5myTL5m3",
        "colab_type": "code",
        "colab": {}
      },
      "source": [
        "# vectorized_eng -> vectorized_fr\n",
        "print(data.vectorized_eng.head())\n",
        "print(data.vectorized_fr.head())"
      ],
      "execution_count": 0,
      "outputs": []
    },
    {
      "cell_type": "code",
      "metadata": {
        "id": "dZdBpy8GBRnI",
        "colab_type": "code",
        "colab": {}
      },
      "source": [
        "### 여기까진 데이터 전처리 ###"
      ],
      "execution_count": 0,
      "outputs": []
    },
    {
      "cell_type": "code",
      "metadata": {
        "id": "mHEwbKSPBcmh",
        "colab_type": "code",
        "colab": {}
      },
      "source": [
        "## torch.utils.data.DataLoader을 활용할 것인데\n",
        "x=torch.tensor(data['vectorized_eng'].to_list())\n",
        "y=torch.tensor(data['vectorized_fr'].to_list())\n",
        "X=torch.utils.data.TensorDataset(x,y)\n",
        "train_loader=torch.utils.data.DataLoader(X,batch_size=64,drop_last=True)"
      ],
      "execution_count": 0,
      "outputs": []
    },
    {
      "cell_type": "code",
      "metadata": {
        "id": "YNMFQFaVEd92",
        "colab_type": "code",
        "colab": {}
      },
      "source": [
        "batch=next(iter(train_loader))"
      ],
      "execution_count": 0,
      "outputs": []
    },
    {
      "cell_type": "code",
      "metadata": {
        "id": "mB9KyL0JCskA",
        "colab_type": "code",
        "colab": {}
      },
      "source": [
        "print(batch[0].shape) # 4,66\n"
      ],
      "execution_count": 0,
      "outputs": []
    },
    {
      "cell_type": "code",
      "metadata": {
        "id": "4en9bUz43uN9",
        "colab_type": "code",
        "colab": {}
      },
      "source": [
        "# positional encoding을 해줘야한다.(실제 모델에서는 pretrained 모델을 활용한다고 했다)\n",
        "def positional_encoding(seq_len,embedding_dim):\n",
        "    # input shape : [n,seq_len]\n",
        "    output=torch.zeros((seq_len+1,embedding_dim))\n",
        "    def for_insert(output):\n",
        "        m,n=output.shape\n",
        "        for i in range(1,m):\n",
        "            for j in range(n):\n",
        "                output[i,j]=i/10000**(2*j/embedding_dim)\n",
        "        return output\n",
        "    pe=for_insert(output)\n",
        "    pe[:,0::2]=torch.sin(pe[:,0::2])\n",
        "    pe[:,1::2]=torch.cos(pe[:,1::2])\n",
        "    pe[0,:]=0.\n",
        "    return pe"
      ],
      "execution_count": 0,
      "outputs": []
    },
    {
      "cell_type": "code",
      "metadata": {
        "id": "DUqXqzO4hTAJ",
        "colab_type": "code",
        "colab": {}
      },
      "source": [
        "# positional encoding pretrained + padding 1인 부분 masking\n",
        "pe=positional_encoding(66,300) # 66이 아니라 66+1로 함. 67(즉, 66)에 해당하는 부분은 padding_idx로 처리하자\n",
        "print(pe)\n",
        "pe_embedding=nn.Embedding.from_pretrained(pe,freeze=True)\n",
        "position=torch.arange(batch[0].shape[1]).expand(batch[0].shape[0],batch[0].shape[1])+1\n",
        "mask=batch[0].eq(1)\n",
        "position.masked_fill_(mask,0)\n",
        "pe_embedding(position)"
      ],
      "execution_count": 0,
      "outputs": []
    },
    {
      "cell_type": "code",
      "metadata": {
        "id": "OS4JGKB_m9Yz",
        "colab_type": "code",
        "colab": {}
      },
      "source": [
        "# batch 1개에 대해서\n",
        "batch[0][0]\n",
        "position=torch.tensor([_ for _,i in enumerate(batch[0][0])])\n",
        "pos_mask=batch[0][0].eq(1)\n",
        "position.masked_fill_(pos_mask,0)\n",
        "print(position)\n",
        "print(pe_embedding(position))"
      ],
      "execution_count": 0,
      "outputs": []
    },
    {
      "cell_type": "code",
      "metadata": {
        "id": "H-VKi-4opthy",
        "colab_type": "code",
        "colab": {}
      },
      "source": [
        "# batch에 대해서\n",
        "batch[0].shape\n",
        "seq_len=66\n",
        "positions=torch.arange(inputs.size(1))\n",
        "positions\n",
        "positions.expand(inputs.size(0),inputs.size(1))"
      ],
      "execution_count": 0,
      "outputs": []
    },
    {
      "cell_type": "code",
      "metadata": {
        "id": "2wv8zImVfpFU",
        "colab_type": "code",
        "colab": {}
      },
      "source": [
        "def self_attention(input,Mask=False):\n",
        "    # scaled dot product attention\n",
        "    # input shape : [n,seq_len,embedding_dim]\n",
        "    Result=[]\n",
        "    mask=torch.ones((input.shape[1],input.shape[1])).triu(diagonal=1).bool() # seq_len,seq_len\n",
        "    for ba in range(input.shape[0]):\n",
        "        Q=input[ba]\n",
        "        K=Q\n",
        "        V=Q\n",
        "        T=Q.matmul(K.T)/torch.sqrt(torch.tensor(Q.shape[-1]).float())\n",
        "        mask_=T.eq(0)\n",
        "        if Mask:\n",
        "            T.masked_fill_(mask,1e-7) # mask에서 true이 녀석의 부분에 1e-7 대입\n",
        "        weight=F.softmax(T,dim=-1)\n",
        "        weight.masked_fill_(mask_,0)\n",
        "        # weight : seq_len, seq_len\n",
        "        attention_score=weight.matmul(V)\n",
        "        # attention score : seq_len,embedding_dim\n",
        "        Result.append(attention_score)\n",
        "    return torch.stack(Result,0)# Result : n, seq_len, embedding_dim"
      ],
      "execution_count": 0,
      "outputs": []
    },
    {
      "cell_type": "code",
      "metadata": {
        "id": "6TnBszyVoQz5",
        "colab_type": "code",
        "colab": {}
      },
      "source": [
        "def attention(encoder_input,decoder_input): # 고민 요소\n",
        "    # scaled dot product attention\n",
        "    # encoder_input shape : [n,encoder_seq_len,encoder_embedding_dim]\n",
        "    # decoder_input shape : [n,decoder_seq_len,decoder_embedding_dim]\n",
        "    Result=[]\n",
        "    for ba in range(encoder_input.shape[0]):\n",
        "        Q=decoder_input[ba]\n",
        "        K=encoder_input[ba]\n",
        "        V=encoder_input[ba]\n",
        "        T=Q.matmul(K.T)/torch.sqrt(torch.tensor(Q.shape[-1]).float())\n",
        "        weight=F.softmax(T,dim=-1)\n",
        "        # weight : seq_len, seq_len\n",
        "        attention_score=weight.matmul(V)\n",
        "        # attention score : seq_len,embedding_dim\n",
        "        Result.append(attention_score)\n",
        "    return torch.stack(Result,0)# Result : n, seq_len, embedding_dim"
      ],
      "execution_count": 0,
      "outputs": []
    },
    {
      "cell_type": "code",
      "metadata": {
        "id": "NAMjSaXi4zb9",
        "colab_type": "code",
        "colab": {}
      },
      "source": [
        "class attention_encoder(nn.Module): # 완료\n",
        "    def __init__(self,n_vocab,seq_len,embedding_dim):\n",
        "        super().__init__()\n",
        "        self.embedding=nn.Embedding(n_vocab,embedding_dim,padding_idx=1)\n",
        "        self.embedding.weight.required_grad=False\n",
        "        pe=positional_encoding(seq_len,embedding_dim)\n",
        "        \n",
        "        self.positional_embedding=nn.Embedding.from_pretrained(pe,freeze=True)\n",
        "        self.fc=nn.Sequential(nn.Linear(embedding_dim,embedding_dim*4,bias=False),nn.ReLU(),nn.Linear(embedding_dim*4,embedding_dim,bias=False))\n",
        "        self.batch1=nn.BatchNorm1d(seq_len)\n",
        "        self.batch2=nn.BatchNorm1d(seq_len)\n",
        "    def forward(self,input):\n",
        "        # input shape : [n,seq_len] # n batch size\n",
        "        x=self.embedding(input) # x : [n,seq_len,embedding_dim]\n",
        "        position=torch.arange(input.shape[1]).expand(input.shape[0],input.shape[1])+1\n",
        "        mask=input.eq(1) # shape : n, seq_len # mask는 padding idx 값을 0으로 만들어주기 위한 것\n",
        "        position.masked_fill_(mask,0)\n",
        "        position_=self.positional_embedding(position)\n",
        "        x=x+position_\n",
        "        x=self.batch1(self_attention(x)+x)\n",
        "        x=self.batch2(self.fc(x)+x)\n",
        "        return x"
      ],
      "execution_count": 0,
      "outputs": []
    },
    {
      "cell_type": "code",
      "metadata": {
        "id": "mtQcYTLkPSD7",
        "colab_type": "code",
        "colab": {}
      },
      "source": [
        "class attention_decoder(nn.Module): # encoder와의 차이점 - masking을 해줘야 함. \n",
        "    def __init__(self,n_vocab,seq_len,embedding_dim):\n",
        "        super().__init__()\n",
        "        self.embedding=nn.Embedding(n_vocab,embedding_dim,padding_idx=1)\n",
        "        self.embedding.weight.required_grad=False\n",
        "        pe=positional_encoding(seq_len,embedding_dim)\n",
        "        self.positional_embedding=nn.Embedding.from_pretrained(pe,freeze=True)\n",
        "        self.batch1=nn.BatchNorm1d(seq_len) # 여기에 seq_len이 들어가야한다.\n",
        "        self.fc1=nn.Sequential(nn.Linear(embedding_dim,embedding_dim*4),nn.ReLU(),nn.Linear(embedding_dim*4,embedding_dim))\n",
        "        self.batch2=nn.BatchNorm1d(seq_len)\n",
        "        self.batch3=nn.BatchNorm1d(seq_len)\n",
        "        self.fc2=nn.Sequential(nn.Linear(embedding_dim,embedding_dim*4),nn.ReLU(),nn.Linear(embedding_dim*4,embedding_dim))\n",
        "        self.final_fc=nn.Linear(embedding_dim,n_vocab)\n",
        "       \n",
        "    def forward(self,input,encoder_output):\n",
        "        # input shape : [n,seq_len] # n batch size\n",
        "        # encoder_output : [n,encoder_seq_len,encoder_embedding_dim]\n",
        "        \n",
        "        #1. decoder_self_attention\n",
        "        x=self.embedding(input) # x : [n,decoder_seq_len,decoder_embedding_dim]\n",
        "        position=torch.arange(input.shape[1]).expand(input.shape[0],input.shape[1])+1\n",
        "        mask=input.eq(1) # shape : n, seq_len # mask는 padding idx 값을 0으로 만들어주기 위한 것\n",
        "        position.masked_fill_(mask,0)\n",
        "        position_=self.positional_embedding(position)\n",
        "        x=x+position_\n",
        "        out=self_attention(x,True)\n",
        "        x=self.batch1(out+x)\n",
        "        \n",
        "        #2. decoder_encoder_attention\n",
        "        output=attention(encoder_output,x)\n",
        "        x=self.batch3(output+x)\n",
        "\n",
        "        #3. fc2 layer\n",
        "        # x shape : [n,decoder_seq_len,decoder_embedding_dim]\n",
        "        x=self.batch3(self.fc2(x)+x)\n",
        "\n",
        "        #4. final fc layer\n",
        "        out=self.final_fc(x)\n",
        "        return out\n"
      ],
      "execution_count": 0,
      "outputs": []
    },
    {
      "cell_type": "code",
      "metadata": {
        "id": "2mG24ACVUvFh",
        "colab_type": "code",
        "colab": {}
      },
      "source": [
        "# device=torch.device('cuda' if torch.cuda.is_available else 'cpu')\n",
        "# encoder=attention_encoder(7170,66,300).to(device)\n",
        "# decoder=attention_decoder(12238,66,300).to(device)\n",
        "# lr=1e-3\n",
        "# optimizer=torch.optim.Adam()"
      ],
      "execution_count": 0,
      "outputs": []
    },
    {
      "cell_type": "code",
      "metadata": {
        "id": "2yJqBTV4YWfa",
        "colab_type": "code",
        "colab": {}
      },
      "source": [
        "encoder=attention_encoder(7170,66,300)\n",
        "decoder=attention_decoder(12238,66,300)\n",
        "parameters=list(encoder.parameters())+list(decoder.parameters())\n",
        "optimizer=torch.optim.Adam(parameters)\n",
        "epochs=10\n",
        "cost=[]\n",
        "for epoch in range(epochs):\n",
        "    avg_cost=0\n",
        "    n=0\n",
        "    for x,y in train_loader:\n",
        "        optimizer.zero_grad()\n",
        "        encoder_output=encoder(x)\n",
        "        decoder_output=decoder(y,encoder_output)\n",
        "        loss=F.cross_entropy(decoder_output)"
      ],
      "execution_count": 0,
      "outputs": []
    },
    {
      "cell_type": "code",
      "metadata": {
        "id": "CJaCVB2nW-34",
        "colab_type": "code",
        "colab": {}
      },
      "source": [
        "encoder=attention_encoder(7170,66,300)\n",
        "decoder=attention_decoder(12238,66,300)\n",
        "encoder_output=encoder(batch[0])\n",
        "decoder_output=decoder(batch[1],encoder_output)"
      ],
      "execution_count": 0,
      "outputs": []
    },
    {
      "cell_type": "code",
      "metadata": {
        "id": "ijGqcQ9rZzWY",
        "colab_type": "code",
        "colab": {}
      },
      "source": [
        "decoder_output[0].argmax(-1)"
      ],
      "execution_count": 0,
      "outputs": []
    },
    {
      "cell_type": "code",
      "metadata": {
        "id": "BjpP1K0OWweB",
        "colab_type": "code",
        "colab": {}
      },
      "source": [
        "F.softmax(decoder_output,-1).argmax(-1)"
      ],
      "execution_count": 0,
      "outputs": []
    },
    {
      "cell_type": "code",
      "metadata": {
        "id": "Zq83n6mRQMGW",
        "colab_type": "code",
        "colab": {}
      },
      "source": [
        "# pytorch를 위한 dataset 구성하기\n",
        "# x=torch.tensor(data['vectorized_eng'].to_numpy())\n",
        "# https://discuss.pytorch.org/t/dataloader-for-various-length-of-data/6418\n",
        "# dataset_eng=torch.utils.data.TensorDataset(x)\n",
        "# 에러.. 어차피 TensorDataset을 만드려면,, 격자 구조가 되야되네.."
      ],
      "execution_count": 0,
      "outputs": []
    },
    {
      "cell_type": "code",
      "metadata": {
        "id": "H37i7uOERRRG",
        "colab_type": "code",
        "colab": {}
      },
      "source": [
        "# x=data.vectorized_eng.to_numpy()\n",
        "# eng_dataloader=torch.utils.data.DataLoader(x,batch_size=1,drop_last=True)\n",
        "# batch=next(iter(eng_dataloader))\n",
        "# print(batch)\n",
        "# https://pytorch.org/tutorials/beginner/text_sentiment_ngrams_tutorial.html 참조\n",
        "# 사실상 padding을 해서 torch.utils.data.TensorDataset()으로 만들어서 DataLoader로 진행하는 것이 깔끔은 하다.\n",
        "# 하지만 그런식으로 하기 싫을 경우도 대비해서 한번 배워보자\n",
        "# # torch.utils.data.DataLoader()\n",
        "# def batch_maker(batch):\n",
        "#     batch=torch.tensor(batch)\n",
        "#     return batch\n",
        "# loader=torch.utils.data.DataLoader(x,2,collate_fn=batch_maker,shuffle=True) # collate function은 단순히 mini batch로 묶어주기 전에, 각각의 data에 대해서 어떻게 처리하냐에 대한 것을 알려주네..."
      ],
      "execution_count": 0,
      "outputs": []
    },
    {
      "cell_type": "code",
      "metadata": {
        "id": "Ejcn-qi3RHZI",
        "colab_type": "code",
        "colab": {}
      },
      "source": [
        "# https://paul-hyun.github.io/transformer-01/ 참고\n",
        "input=torch.tensor([[3091, 3604,  206, 3958, 3760, 3590,    0,    0],\n",
        "        [ 212, 3605,   53, 3832, 3596, 3682, 3760, 3590]]\n",
        "        )\n",
        "input.eq(0) # input 중에서 0이랑 equal한 녀석을 말하는 것이구나,\n",
        "print(input.eq(0))\n",
        "attn_mask=input.eq(0).unsqueeze(1).expand(2,8,8)\n",
        "scores=torch.tensor([[31.3476, -0.1451, -1.4832, -2.8843, -1.2542,  0.8314, -5.7174, -5.7174],\n",
        "        [-0.1451, 27.8460,  4.9304,  0.8781,  1.5047,  1.6372,  0.5585,  0.5585],\n",
        "        [-1.4832,  4.9304, 26.8313,  3.9618,  2.1587,  3.5587,  3.0447,  3.0447],\n",
        "        [-2.8843,  0.8781,  3.9618, 27.9037,  1.6892,  4.0453,  4.7429,  4.7429],\n",
        "        [-1.2542,  1.5047,  2.1587,  1.6892, 32.0763,  4.0136, -1.1263, -1.1263],\n",
        "        [ 0.8314,  1.6372,  3.5587,  4.0453,  4.0136, 38.0982, -2.7216, -2.7216],\n",
        "        [-5.7174,  0.5585,  3.0447,  4.7429, -1.1263, -2.7216, 56.9788, 56.9788],\n",
        "\n",
        "\n",
        "        [-5.7174,  0.5585,  3.0447,  4.7429, -1.1263, -2.7216, 56.9788, 56.9788]])\n",
        "scores=scores.expand(2,8,8)\n",
        "scores.masked_fill_(attn_mask,0)\n",
        "seq=torch.randn((1,10))\n",
        "subsequent_mask = torch.ones_like(seq).unsqueeze(-1).expand(seq.size(0), seq.size(1), seq.size(1))\n",
        "print(subsequent_mask)\n",
        "subsequent_mask = subsequent_mask.triu(diagonal=1) # upper triangular part of a matrix(2-D), diagonal=1은 diagonal에서 위로 1칸 부터 1을 채운다는 것\n",
        "print(subsequent_mask)\n",
        "subsequent_mask = subsequent_mask.triu(diagonal=2) # diagonal=2은 diagonal에서  위로 2칸까지 1을 채운다는 것\n",
        "print(subsequent_mask)"
      ],
      "execution_count": 0,
      "outputs": []
    },
    {
      "cell_type": "code",
      "metadata": {
        "id": "RphBnyymps7S",
        "colab_type": "code",
        "colab": {}
      },
      "source": [
        "# self_attention_example \n",
        "\n",
        "input = torch.randn((2,3,10)) # 2개의 문장이고, 문장의 길이 3, 차원은 10\n",
        "output,T=self_attention(input,True)\n",
        "output[0]"
      ],
      "execution_count": 0,
      "outputs": []
    }
  ]
}