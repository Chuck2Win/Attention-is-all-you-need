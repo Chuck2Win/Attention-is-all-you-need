{
  "nbformat": 4,
  "nbformat_minor": 0,
  "metadata": {
    "colab": {
      "name": "self_attention_scratch.ipynb",
      "provenance": [],
      "collapsed_sections": [],
      "authorship_tag": "ABX9TyOT5djEzGqSWGgPoWPa2kHM",
      "include_colab_link": true
    },
    "kernelspec": {
      "name": "python3",
      "display_name": "Python 3"
    }
  },
  "cells": [
    {
      "cell_type": "markdown",
      "metadata": {
        "id": "view-in-github",
        "colab_type": "text"
      },
      "source": [
        "<a href=\"https://colab.research.google.com/github/Chuck2Win/attention/blob/master/self_attention_scratch.ipynb\" target=\"_parent\"><img src=\"https://colab.research.google.com/assets/colab-badge.svg\" alt=\"Open In Colab\"/></a>"
      ]
    },
    {
      "cell_type": "code",
      "metadata": {
        "id": "zIVkxtqsX23D",
        "colab_type": "code",
        "colab": {}
      },
      "source": [
        "import torch\n",
        "import numpy as np"
      ],
      "execution_count": 0,
      "outputs": []
    },
    {
      "cell_type": "code",
      "metadata": {
        "id": "2MrAqWPKYInx",
        "colab_type": "code",
        "colab": {}
      },
      "source": [
        "inputs=torch.tensor([[1,0,0,0],[0,0,1,0],[0,1,0,0.]]) # input dimension 4\n",
        "input2key=torch.randn([4,3])\n",
        "input2value=torch.randn([4,5])\n",
        "input2query =torch.randn([4,3])\n",
        "key=torch.matmul(inputs,input2key)\n",
        "value=torch.matmul(inputs,input2value)\n",
        "query=torch.matmul(inputs,input2query)"
      ],
      "execution_count": 0,
      "outputs": []
    },
    {
      "cell_type": "code",
      "metadata": {
        "id": "08z7dupxZJ1r",
        "colab_type": "code",
        "colab": {
          "base_uri": "https://localhost:8080/",
          "height": 71
        },
        "outputId": "021d3133-7e64-4cd5-de51-f29bf44f0f62"
      },
      "source": [
        "print(key.shape)\n",
        "print(value.shape)\n",
        "print(query.shape)"
      ],
      "execution_count": 24,
      "outputs": [
        {
          "output_type": "stream",
          "text": [
            "torch.Size([3, 3])\n",
            "torch.Size([3, 5])\n",
            "torch.Size([3, 3])\n"
          ],
          "name": "stdout"
        }
      ]
    },
    {
      "cell_type": "code",
      "metadata": {
        "id": "GMejGV7MZTzN",
        "colab_type": "code",
        "colab": {}
      },
      "source": [
        "attention_score=(query.matmul(key.T)).diag()"
      ],
      "execution_count": 0,
      "outputs": []
    },
    {
      "cell_type": "code",
      "metadata": {
        "id": "k0YcP_YFZl91",
        "colab_type": "code",
        "colab": {
          "base_uri": "https://localhost:8080/",
          "height": 35
        },
        "outputId": "0d68a78b-ae37-4189-98af-3b5ffbebcff2"
      },
      "source": [
        "softmax_score=torch.nn.Softmax(dim=0)\n",
        "print(softmax_score) "
      ],
      "execution_count": 26,
      "outputs": [
        {
          "output_type": "stream",
          "text": [
            "Softmax(dim=0)\n"
          ],
          "name": "stdout"
        }
      ]
    },
    {
      "cell_type": "code",
      "metadata": {
        "id": "0VQm86lwaVPN",
        "colab_type": "code",
        "colab": {}
      },
      "source": [
        "score=softmax_score(attention_score)"
      ],
      "execution_count": 0,
      "outputs": []
    },
    {
      "cell_type": "code",
      "metadata": {
        "id": "MDUb5jS-aYfb",
        "colab_type": "code",
        "colab": {
          "base_uri": "https://localhost:8080/",
          "height": 71
        },
        "outputId": "23a5bd7a-63d3-4a56-90a7-aba9aad673ed"
      },
      "source": [
        "score.unsqueeze(1)*value"
      ],
      "execution_count": 32,
      "outputs": [
        {
          "output_type": "execute_result",
          "data": {
            "text/plain": [
              "tensor([[-0.1377, -0.2367, -0.2829,  0.3674,  0.3981],\n",
              "        [ 0.6142,  0.0867,  0.0554, -0.0379, -0.2513],\n",
              "        [ 0.0701, -0.2240, -0.2285,  0.2734, -0.4164]])"
            ]
          },
          "metadata": {
            "tags": []
          },
          "execution_count": 32
        }
      ]
    },
    {
      "cell_type": "code",
      "metadata": {
        "id": "Sj3SfhCta42R",
        "colab_type": "code",
        "colab": {
          "base_uri": "https://localhost:8080/",
          "height": 35
        },
        "outputId": "55b58fe9-8ec7-4245-dcc0-9ca09d0139df"
      },
      "source": [
        "output1=(score.unsqueeze(1)*value).sum(dim=0)\n",
        "print(output1)"
      ],
      "execution_count": 35,
      "outputs": [
        {
          "output_type": "stream",
          "text": [
            "tensor([ 0.5467, -0.3739, -0.4560,  0.6029, -0.2697])\n"
          ],
          "name": "stdout"
        }
      ]
    },
    {
      "cell_type": "code",
      "metadata": {
        "id": "aYsK3KnkbF5_",
        "colab_type": "code",
        "colab": {}
      },
      "source": [
        ""
      ],
      "execution_count": 0,
      "outputs": []
    }
  ]
}